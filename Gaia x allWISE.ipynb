{
 "cells": [
  {
   "cell_type": "code",
   "execution_count": 2,
   "metadata": {},
   "outputs": [],
   "source": [
    "import pandas as pd\n",
    "import random\n",
    "import numpy as np\n",
    "from sklearn.metrics import precision_score, recall_score, roc_auc_score, f1_score, accuracy_score\n",
    "\n",
    "from sklearn.neighbors import KNeighborsClassifier\n",
    "from sklearn.svm import SVC\n",
    "from sklearn.tree import DecisionTreeClassifier\n",
    "from sklearn.model_selection import train_test_split\n",
    "from sklearn.model_selection import cross_val_score\n",
    "from sklearn.neural_network import MLPClassifier\n",
    "import xgboost as xgb\n",
    "import lightgbm as lgb\n",
    "\n",
    "import matplotlib\n",
    "import matplotlib.pyplot as plt"
   ]
  },
  {
   "cell_type": "code",
   "execution_count": 9,
   "metadata": {},
   "outputs": [],
   "source": [
    "#евклидово расстояние\n",
    "def euclid_distance(data, x = '', y ='.1'):\n",
    "    data['eucl'] = np.sqrt((data['ra' + x] - data['ra' + y])**2 + (data['dec' + x] - data['dec' + y])**2) \n",
    "    return data"
   ]
  },
  {
   "cell_type": "code",
   "execution_count": 4,
   "metadata": {},
   "outputs": [],
   "source": [
    "#построение гистограм\n",
    "def plot_histogram(data, name):\n",
    "    x = data\n",
    "    plt.hist(data[name], color = 'blue', edgecolor = 'black',\n",
    "         bins = int(180/5))\n",
    "    plt.show()\n",
    "    \n",
    "def plot_histogram2(data1, data2):\n",
    "    plt.hist(data1, color = 'blue', edgecolor = 'black',\n",
    "         bins = int(180/5))\n",
    "    plt.hist(data2, color = 'red', edgecolor = 'black',\n",
    "         bins = int(180/5))\n",
    "    plt.show()\n",
    "    \n",
    "    \n",
    "#графики\n",
    "\n",
    "def barplot(x_data, y_data, error_data, x_label=\"\", y_label=\"\", title=\"\", cnt_l = 40, cnt_r = 15):\n",
    "    fig, ax = plt.subplots(figsize = (cnt_l, cnt_r))\n",
    "    # Draw bars, position them in the center of the tick mark on the x-axis\n",
    "    ax.bar(x_data, y_data, color = '#539caf', align = 'center', width = 0.9)\n",
    "    # Draw error bars to show standard deviation, set ls to 'none'\n",
    "    # to remove line between points\n",
    "    ax.errorbar(x_data, y_data, color = '#297083', ls = 'none', lw = 2, capthick = 2)\n",
    "    ax.set_ylabel(y_label)\n",
    "    ax.set_xlabel(x_label)\n",
    "    ax.set_title(title)\n",
    "\n",
    "    \n",
    "    plt.show()"
   ]
  },
  {
   "cell_type": "markdown",
   "metadata": {},
   "source": [
    "Загрузка и обработка данных"
   ]
  },
  {
   "cell_type": "code",
   "execution_count": null,
   "metadata": {},
   "outputs": [],
   "source": [
    "#no_match_allwise - информация по несопоставимым парам\n",
    "no_data = pd.DataFrame()\n",
    "for i in range(1, 7): #5,6\n",
    "    no_match_data = pd.read_csv(\"no_match_allwise_\" + str(i) + \".csv\")\n",
    "    no_data = pd.concat([no_data, no_match_data], axis = 0)\n",
    "\n",
    "no_data = no_data.drop_duplicates()\n",
    "no_data['matched'] = 0\n",
    "print(len(no_data))"
   ]
  },
  {
   "cell_type": "code",
   "execution_count": null,
   "metadata": {},
   "outputs": [],
   "source": [
    "#match_allwise - информация по сопоставимым парам\n",
    "data = pd.DataFrame()\n",
    "for i in range(1, 6): \n",
    "    match_data = pd.read_csv(\"match_allwise\" + str(i) + \".csv\")\n",
    "    data = pd.concat([data, match_data], axis = 0)\n",
    "\n",
    "data = data.drop_duplicates()\n",
    "print(len(data))\n",
    "data['matched'] = 1"
   ]
  },
  {
   "cell_type": "code",
   "execution_count": 10,
   "metadata": {},
   "outputs": [],
   "source": [
    "#оставляем только необходимые параметры\n",
    "no_data1 = (euclid_distance(no_data))[['eucl','ra','dec','ra.1','dec.1','phot_g_mean_flux', 'phot_bp_mean_flux', 'phot_rp_mean_flux', 'w1mpro', 'w2mpro', 'w3mpro','w4mpro', 'matched']]"
   ]
  },
  {
   "cell_type": "code",
   "execution_count": 11,
   "metadata": {},
   "outputs": [],
   "source": [
    "data1 = (euclid_distance(data))[['eucl','ra','dec','ra.1','dec.1','phot_g_mean_flux', 'phot_bp_mean_flux', 'phot_rp_mean_flux', 'w1mpro', 'w2mpro', 'w3mpro','w4mpro', 'matched']]"
   ]
  },
  {
   "cell_type": "code",
   "execution_count": 12,
   "metadata": {},
   "outputs": [],
   "source": [
    "no_data1 = no_data1.dropna()\n",
    "data1 = data1.dropna()"
   ]
  },
  {
   "cell_type": "code",
   "execution_count": null,
   "metadata": {},
   "outputs": [],
   "source": []
  },
  {
   "cell_type": "markdown",
   "metadata": {},
   "source": [
    "создаем тренировочный и тестовый наборы "
   ]
  },
  {
   "cell_type": "code",
   "execution_count": null,
   "metadata": {},
   "outputs": [],
   "source": [
    "#набор1\n",
    "#собираем данные по объектам с выскоим собственным движениям и по близкорасположенным объектам\n",
    "x1 = no_data1[no_data1['eucl'] < 0.1].sample(frac = 0.1)\n",
    "x2 = data1[data1['eucl'] > 0.001].sample(frac = 0.5)\n",
    "\n",
    "print((len(no_data1[no_data1['eucl'] < 0.1]) + len(data1[data1['eucl'] > 0.001]))/ (len(no_data) + len(data1)))\n",
    "x = []\n",
    "x = pd.concat([x1, x2], axis = 0)\n",
    "vb = len(x)\n",
    "\n",
    "#хорошо различимые объекты и хорошо сопоставимые\n",
    "x1 = no_data1[no_data1['eucl'] > 1].sample(frac = 0.08)\n",
    "x2 = data1[data1['eucl'] < 0.01].sample(frac = 0.04)\n",
    "\n",
    "x = pd.concat([x, x1, x2], axis = 0)\n",
    "#количество плохих данных к общему числу\n",
    "print(vb/len(x))"
   ]
  },
  {
   "cell_type": "code",
   "execution_count": 14,
   "metadata": {},
   "outputs": [
    {
     "name": "stdout",
     "output_type": "stream",
     "text": [
      "1447\n"
     ]
    }
   ],
   "source": [
    "print(len(x))"
   ]
  },
  {
   "cell_type": "code",
   "execution_count": 17,
   "metadata": {},
   "outputs": [],
   "source": [
    "dff1 = x[['ra','dec','ra.1','dec.1','phot_g_mean_flux', 'phot_bp_mean_flux', 'phot_rp_mean_flux', 'w1mpro', 'w2mpro', 'w3mpro','w4mpro', 'matched']]"
   ]
  },
  {
   "cell_type": "code",
   "execution_count": 18,
   "metadata": {},
   "outputs": [
    {
     "name": "stdout",
     "output_type": "stream",
     "text": [
      "1447\n",
      "1447\n"
     ]
    }
   ],
   "source": [
    "print(len(dff1))\n",
    "print(len(dff1.dropna()))\n",
    "dff1 = dff1.dropna()\n",
    "y1 = dff1['matched']\n",
    "dff2 = dff1.drop(columns= ['matched'])"
   ]
  },
  {
   "cell_type": "code",
   "execution_count": null,
   "metadata": {},
   "outputs": [],
   "source": [
    "X_train, X_val, y_train, y_val = train_test_split(dff2, y1, test_size=0.71, random_state=80, shuffle = True) #0.7"
   ]
  },
  {
   "cell_type": "markdown",
   "metadata": {},
   "source": [
    "Применение методов мащинного обучения"
   ]
  },
  {
   "cell_type": "code",
   "execution_count": null,
   "metadata": {},
   "outputs": [],
   "source": [
    "dt = DecisionTreeClassifier()\n",
    "dt = dt.fit(X_train, y_train)\n",
    "res = dt.predict(X_val)\n",
    "\n",
    "print('accuracy_score: ', accuracy_score(y_val, res))\n",
    "print('precision_score: ', precision_score(y_val, res))\n",
    "print('recall_score: ', recall_score(y_val, res))\n",
    "print('f1_score: ', f1_score(y_val, res))\n",
    "print()\n",
    "\n",
    "print(dt.n_features_)\n",
    "weight_f = dt.feature_importances_\n",
    "print(weight_f)"
   ]
  },
  {
   "cell_type": "code",
   "execution_count": null,
   "metadata": {},
   "outputs": [],
   "source": [
    "svc = SVC(verbose = True, random_state = 24)\n",
    "svc = svc.fit(X_train, y_train)\n",
    "res = svc.predict(X_val)\n",
    "\n",
    "print('accuracy_score: ', accuracy_score(y_val, res))\n",
    "print('precision_score: ', precision_score(y_val, res))\n",
    "print('recall_score: ', recall_score(y_val, res))\n",
    "print('f1_score: ', f1_score(y_val, res))\n",
    "print()"
   ]
  },
  {
   "cell_type": "code",
   "execution_count": null,
   "metadata": {},
   "outputs": [],
   "source": [
    "knn = KNeighborsClassifier(n_neighbors=5, algorithm='auto', leaf_size=30)\n",
    "knn = knn.fit(X_train, y_train)\n",
    "res = knn.predict(X_val)\n",
    "\n",
    "print('accuracy_score: ', accuracy_score(y_val, res))\n",
    "print('precision_score: ', precision_score(y_val, res))\n",
    "print('recall_score: ', recall_score(y_val, res))\n",
    "print('f1_score: ', f1_score(y_val, res))\n",
    "print()"
   ]
  },
  {
   "cell_type": "code",
   "execution_count": null,
   "metadata": {},
   "outputs": [],
   "source": [
    "model = xgb.XGBClassifier()\n",
    "model = model.fit(X_train, y_train)\n",
    "res_xgb = model.predict(X_val)\n",
    "res = res_xgb\n",
    "\n",
    "print('accuracy_score: ', accuracy_score(y_val, res))\n",
    "print('precision_score: ', precision_score(y_val, res))\n",
    "print('recall_score: ', recall_score(y_val, res))\n",
    "print('f1_score: ', f1_score(y_val, res))\n",
    "print()\n",
    "model.feature_importances_"
   ]
  },
  {
   "cell_type": "code",
   "execution_count": null,
   "metadata": {},
   "outputs": [],
   "source": [
    "x, xe, y1, ye = train_test_split(X_train, y_train, test_size=0.35, random_state=22, )\n",
    "model1 = lgb.LGBMClassifier(n_estimators=100, silent=True,  num_leaves = 25, learning_rate = 0.03, random_state = 27)\n",
    "model1 = model1.fit(x, y1,   eval_set=[(xe, ye)], early_stopping_rounds=100)\n",
    "res_lgb = model1.predict(X_val)\n",
    "res = res_lgb\n",
    "\n",
    "print('accuracy_score: ', accuracy_score(y_val, res))\n",
    "print('precision_score: ', precision_score(y_val, res))\n",
    "print('recall_score: ', recall_score(y_val, res))\n",
    "print('f1_score: ', f1_score(y_val, res))\n",
    "print()\n",
    "model1.feature_importances_"
   ]
  },
  {
   "cell_type": "code",
   "execution_count": 27,
   "metadata": {},
   "outputs": [
    {
     "name": "stderr",
     "output_type": "stream",
     "text": [
      "C:\\ProgramData\\Anaconda3\\lib\\site-packages\\ipykernel_launcher.py:2: SettingWithCopyWarning: \n",
      "A value is trying to be set on a copy of a slice from a DataFrame.\n",
      "Try using .loc[row_indexer,col_indexer] = value instead\n",
      "\n",
      "See the caveats in the documentation: https://pandas.pydata.org/pandas-docs/stable/user_guide/indexing.html#returning-a-view-versus-a-copy\n",
      "  \n"
     ]
    }
   ],
   "source": [
    "# приминяем алгоритм эпсилон-окрестности\n",
    "z = X_train\n",
    "z['matched'] = y_train\n",
    "\n",
    "z['eucl'] = euclid_distance(z)\n",
    "#один из вариантов, как посмотреть ошибки метода эпсилон-окрестности, внизу уже другие\n",
    "z1 = z[z['matched'] == 1]\n",
    "z2 = z[z['matched'] == 0]\n",
    "print(len(z1))\n",
    "print(len(z1[z1['eucl'] > 0.001]))\n",
    "print(len(z2))\n",
    "print(len(z2[z2['eucl'] < 1]))\n"
   ]
  },
  {
   "cell_type": "code",
   "execution_count": null,
   "metadata": {},
   "outputs": [],
   "source": []
  },
  {
   "cell_type": "markdown",
   "metadata": {},
   "source": [
    "Создаем тестовые наборы, которые подходят для проверки случаев 1,2 в статье"
   ]
  },
  {
   "cell_type": "code",
   "execution_count": null,
   "metadata": {},
   "outputs": [],
   "source": [
    "n1 = pd.DataFrame()\n",
    "for i in range(3, 10): #5,6\n",
    "    no_match_data = pd.read_csv(\"no_match_allwise_\" + str(i) + \".csv\")\n",
    "    n1 = pd.concat([n1, no_match_data], axis = 0)\n",
    "\n",
    "n1 = n1.drop_duplicates()\n",
    "n1['matched'] = 0\n",
    "print(len(n1))\n",
    "\n",
    "d1 = pd.DataFrame()\n",
    "for i in range(3, 6): #2,3\n",
    "    match_data = pd.read_csv(\"match_allwise_\" + str(i) + \".csv\")\n",
    "    d1 = pd.concat([d1, match_data], axis = 0)\n",
    "\n",
    "d1 = d1.drop_duplicates()\n",
    "print(len(d1))\n",
    "d1['matched'] = 1\n",
    "\n",
    "df_1 = pd.concat([n1, d1], axis = 0)\n",
    "\n",
    "#добавляем элемент случайности, чтобы заодно данные не особо пересекались\n",
    "tr1 = df_1.sample(frac = 0.7)[['ra','dec','ra.1','dec.1','phot_g_mean_flux', 'phot_bp_mean_flux', 'phot_rp_mean_flux', 'w1mpro', 'w2mpro', 'w3mpro','w4mpro', 'matched']]\n",
    "print(len(tr1))\n",
    "\n",
    "tr1 = tr1.dropna()\n",
    "print(len(tr1))\n",
    "#осталвяем tr1 с полем 'matched' для проверки работы эпсилон окрестности, для машинного обучения - tr2\n",
    "yx = tr1['matched']\n",
    "tr2 = tr1.drop(columns= ['matched'])"
   ]
  },
  {
   "cell_type": "code",
   "execution_count": null,
   "metadata": {},
   "outputs": [],
   "source": []
  },
  {
   "cell_type": "code",
   "execution_count": null,
   "metadata": {},
   "outputs": [],
   "source": [
    "# вариант хороших данных\n",
    "# allwise.ra>30\n",
    "n2 = pd.read_csv(\"no_match_allwise_11.csv\")\n",
    "print(len(n2))\n",
    "\n",
    "n2 = n2.drop_duplicates()\n",
    "n2['matched'] = 0\n",
    "print(len(n2))\n",
    "\n",
    "d2 = pd.read_csv(\"match_allwise_7.csv\")\n",
    "print(len(d2))\n",
    "\n",
    "d2 = d2.drop_duplicates()\n",
    "print(len(d2))\n",
    "d2['matched'] = 1\n",
    "\n",
    "df_2 = pd.concat([n2, d2], axis = 0)\n",
    "\n",
    "tr21 = df_2[['ra','dec','ra.1','dec.1','phot_g_mean_flux', 'phot_bp_mean_flux', 'phot_rp_mean_flux', 'w1mpro', 'w2mpro', 'w3mpro','w4mpro', 'matched']]\n",
    "print(len(tr21))\n",
    "\n",
    "tr21 = tr21.dropna()\n",
    "print(len(tr21))\n",
    "yz = tr21['matched']\n",
    "tr3 = tr21.drop(columns= ['matched'])"
   ]
  },
  {
   "cell_type": "code",
   "execution_count": null,
   "metadata": {},
   "outputs": [],
   "source": []
  },
  {
   "cell_type": "code",
   "execution_count": null,
   "metadata": {},
   "outputs": [],
   "source": [
    "# allwise.ra between -10 .. 30\n",
    "n3 = pd.read_csv(\"no_match_allwise_12.csv\")\n",
    "n3 = pd.concat([n3, pd.read_csv(\"no_match_allwise_13.csv\")], axis = 0)\n",
    "print(len(n3))\n",
    "\n",
    "n3 = n3.drop_duplicates()\n",
    "n3['matched'] = 0\n",
    "print(len(n3))\n",
    "\n",
    "d3 = pd.read_csv(\"match_allwise_8.csv\")\n",
    "print(len(d3))\n",
    "\n",
    "d3 = d3.drop_duplicates()\n",
    "print(len(d3))\n",
    "d3['matched'] = 1\n",
    "\n",
    "\n",
    "df_3 = pd.concat([n3, d3], axis = 0)\n",
    "\n",
    "tr31 = df_3[['ra','dec','ra.1','dec.1','phot_g_mean_flux', 'phot_bp_mean_flux', 'phot_rp_mean_flux', 'w1mpro', 'w2mpro', 'w3mpro','w4mpro', 'matched']]\n",
    "print(len(tr31))\n",
    "\n",
    "tr31 = tr31.dropna()\n",
    "print(len(tr31))\n",
    "yf = tr31['matched']\n",
    "tr4 = tr31.drop(columns= ['matched'])#, 'match'])"
   ]
  },
  {
   "cell_type": "code",
   "execution_count": null,
   "metadata": {},
   "outputs": [],
   "source": []
  },
  {
   "cell_type": "markdown",
   "metadata": {},
   "source": [
    "Создаем другой набор (созданный на основе описанных в статье и тексте диплома ограничениям) и обучаем на нем методы"
   ]
  },
  {
   "cell_type": "code",
   "execution_count": null,
   "metadata": {},
   "outputs": [],
   "source": [
    "x33 = no_data1[no_data1['eucl'] < 0.1].sample(frac = 0.4, random_state = 13)\n",
    "print(len(x33))\n",
    "print(len(x33.dropna()))\n",
    "\n",
    "x44 = data1[data1['eucl'] > 0.001].sample(frac = 0.7)\n",
    "print(len(x44))\n",
    "print(len(x44.dropna()))\n",
    "\n",
    "xx = pd.concat([x33, x44], axis = 0)\n",
    "x33 = no_data1[no_data1['eucl'] > 1].sample(frac = 0.05)\n",
    "print(len(x33))\n",
    "print(len(x33.dropna()))\n",
    "print(len(x33.dropna()))\n",
    "\n",
    "x44 = data1[data1['eucl'] < 0.01].sample(frac = 0.008)\n",
    "print(len(x44))\n",
    "print(len(x44.dropna()))\n",
    "\n",
    "xx = pd.concat([xx, x33, x44], axis = 0)\n",
    "xxx = xx\n",
    "yy1 = xx['matched']\n",
    "xx = xx.drop(columns=['matched', 'eucl'])\n",
    "print(len(xx))"
   ]
  },
  {
   "cell_type": "code",
   "execution_count": null,
   "metadata": {},
   "outputs": [],
   "source": [
    "#применяем проверенные методы"
   ]
  },
  {
   "cell_type": "code",
   "execution_count": 180,
   "metadata": {},
   "outputs": [
    {
     "name": "stdout",
     "output_type": "stream",
     "text": [
      "accuracy_score:  0.9990272373540856\n",
      "precision_score:  1.0\n",
      "recall_score:  0.9975961538461539\n",
      "f1_score:  0.9987966305655837\n",
      "\n",
      "[0.6386942  0.12095496 0.00913841 0.18059117 0.00390454 0.00285846\n",
      " 0.00225206 0.01650519 0.00777624 0.01215627 0.00516839]\n",
      "------------------------------------\n",
      "accuracy_score:  0.8644565673520772\n",
      "precision_score:  0.9994994994994995\n",
      "recall_score:  0.7558667676003028\n",
      "f1_score:  0.8607758620689656\n",
      "\n",
      "[0.6386942  0.12095496 0.00913841 0.18059117 0.00390454 0.00285846\n",
      " 0.00225206 0.01650519 0.00777624 0.01215627 0.00516839]\n",
      "------------------------------------\n",
      "accuracy_score:  0.9997211377579476\n",
      "precision_score:  1.0\n",
      "recall_score:  0.999314833847208\n",
      "f1_score:  0.9996572995202193\n",
      "\n",
      "[0.6386942  0.12095496 0.00913841 0.18059117 0.00390454 0.00285846\n",
      " 0.00225206 0.01650519 0.00777624 0.01215627 0.00516839]\n",
      "------------------------------------\n",
      "accuracy_score:  0.9462440381558028\n",
      "precision_score:  1.0\n",
      "recall_score:  0.7180823345492444\n",
      "f1_score:  0.8359114346375492\n",
      "\n"
     ]
    }
   ],
   "source": [
    "modelx = xgb.XGBClassifier()\n",
    "modelx = modelx.fit(xx, yy1)\n",
    "res_xgb = modelx.predict(X_val)\n",
    "res = res_xgb\n",
    "\n",
    "print('accuracy_score: ', accuracy_score(y_val, res))\n",
    "print('precision_score: ', precision_score(y_val, res))\n",
    "print('recall_score: ', recall_score(y_val, res))\n",
    "print('f1_score: ', f1_score(y_val, res))\n",
    "print()\n",
    "\n",
    "weight_f = modelx.feature_importances_\n",
    "print(weight_f)\n",
    "\n",
    "print('------------------------------------')\n",
    "res = modelx.predict(tr2)\n",
    "\n",
    "print('accuracy_score: ', accuracy_score(yx, res))\n",
    "print('precision_score: ', precision_score(yx, res))\n",
    "print('recall_score: ', recall_score(yx, res))\n",
    "print('f1_score: ', f1_score(yx, res))\n",
    "print()\n",
    "\n",
    "weight_f = modelx.feature_importances_\n",
    "print(weight_f)\n",
    "\n",
    "print('------------------------------------')\n",
    "res = modelx.predict(tr3)\n",
    "\n",
    "print('accuracy_score: ', accuracy_score(yz, res))\n",
    "print('precision_score: ', precision_score(yz, res))\n",
    "print('recall_score: ', recall_score(yz, res))\n",
    "print('f1_score: ', f1_score(yz, res))\n",
    "print()\n",
    "\n",
    "weight_f = modelx.feature_importances_\n",
    "print(weight_f)\n",
    "\n",
    "print('------------------------------------')\n",
    "\n",
    "res = modelx.predict(tr4)\n",
    "\n",
    "print('accuracy_score: ', accuracy_score(yf, res))\n",
    "print('precision_score: ', precision_score(yf, res))\n",
    "print('recall_score: ', recall_score(yf, res))\n",
    "print('f1_score: ', f1_score(yf, res))\n",
    "print()\n"
   ]
  },
  {
   "cell_type": "code",
   "execution_count": 181,
   "metadata": {},
   "outputs": [
    {
     "name": "stdout",
     "output_type": "stream",
     "text": [
      "accuracy_score:  0.8634074695761645\n",
      "precision_score:  0.9994982438534872\n",
      "recall_score:  0.7539742619227857\n",
      "f1_score:  0.859546925566343\n",
      "\n",
      "[302 232  50 280  15  13   3   8 150  35  38]\n",
      "------------------------------------\n",
      "accuracy_score:  0.9974902398215282\n",
      "precision_score:  1.0\n",
      "recall_score:  0.9938335046248715\n",
      "f1_score:  0.9969072164948453\n",
      "\n",
      "[302 232  50 280  15  13   3   8 150  35  38]\n",
      "------------------------------------\n",
      "accuracy_score:  0.9055047694753577\n",
      "precision_score:  1.0\n",
      "recall_score:  0.5044293903074518\n",
      "f1_score:  0.6705923103567718\n",
      "\n"
     ]
    },
    {
     "data": {
      "image/png": "[encoded data removed]",
      "text/plain": [
       "<Figure size 1440x360 with 1 Axes>"
      ]
     },
     "metadata": {
      "needs_background": "light"
     },
     "output_type": "display_data"
    }
   ],
   "source": [
    "model2 = lgb.LGBMClassifier(n_estimators=100, silent=True,  num_leaves = 25, learning_rate = 0.03, random_state = 27)\n",
    "model2 = model2.fit(xx, yy1)\n",
    "\n",
    "\n",
    "res = model2.predict(tr2)\n",
    "\n",
    "print('accuracy_score: ', accuracy_score(yx, res))\n",
    "print('precision_score: ', precision_score(yx, res))\n",
    "print('recall_score: ', recall_score(yx, res))\n",
    "print('f1_score: ', f1_score(yx, res))\n",
    "print()\n",
    "\n",
    "weight_f = model2.feature_importances_\n",
    "print(weight_f)\n",
    "\n",
    "print('------------------------------------')\n",
    "res = model2.predict(tr3)\n",
    "\n",
    "print('accuracy_score: ', accuracy_score(yz, res))\n",
    "print('precision_score: ', precision_score(yz, res))\n",
    "print('recall_score: ', recall_score(yz, res))\n",
    "print('f1_score: ', f1_score(yz, res))\n",
    "print()\n",
    "\n",
    "weight_f = model2.feature_importances_\n",
    "print(weight_f)\n",
    "\n",
    "print('------------------------------------')\n",
    "\n",
    "res = model2.predict(tr4)\n",
    "\n",
    "print('accuracy_score: ', accuracy_score(yf, res))\n",
    "print('precision_score: ', precision_score(yf, res))\n",
    "print('recall_score: ', recall_score(yf, res))\n",
    "print('f1_score: ', f1_score(yf, res))\n",
    "print()\n",
    "\n",
    "barplot(col_lab, weight_f, '', '', '', 'Вес признаков Decision Tree 1', 20, 5)"
   ]
  },
  {
   "cell_type": "code",
   "execution_count": 182,
   "metadata": {},
   "outputs": [
    {
     "name": "stdout",
     "output_type": "stream",
     "text": [
      "accuracy_score:  0.9990272373540856\n",
      "precision_score:  1.0\n",
      "recall_score:  0.9975961538461539\n",
      "f1_score:  0.9987966305655837\n",
      "\n",
      "11\n",
      "[0.51427511 0.2218644  0.00543607 0.24854022 0.         0.\n",
      " 0.         0.         0.         0.00436744 0.00551676]\n",
      "------------------------------------\n",
      "accuracy_score:  0.8594208980276962\n",
      "precision_score:  0.9895729890764647\n",
      "recall_score:  0.7543527630582891\n",
      "f1_score:  0.8560996563573883\n",
      "\n",
      "11\n",
      "[0.51427511 0.2218644  0.00543607 0.24854022 0.         0.\n",
      " 0.         0.         0.         0.00436744 0.00551676]\n",
      "------------------------------------\n",
      "accuracy_score:  1.0\n",
      "precision_score:  1.0\n",
      "recall_score:  1.0\n",
      "f1_score:  1.0\n",
      "\n",
      "11\n",
      "[0.51427511 0.2218644  0.00543607 0.24854022 0.         0.\n",
      " 0.         0.         0.         0.00436744 0.00551676]\n",
      "------------------------------------\n",
      "accuracy_score:  0.9519077901430842\n",
      "precision_score:  1.0\n",
      "recall_score:  0.7477853048462741\n",
      "f1_score:  0.8556946929039952\n",
      "\n"
     ]
    }
   ],
   "source": [
    "dt2 = DecisionTreeClassifier()\n",
    "df2 = dt2.fit(xx, yy1)\n",
    "res = dt2.predict(X_val)\n",
    "\n",
    "print('accuracy_score: ', accuracy_score(y_val, res))\n",
    "print('precision_score: ', precision_score(y_val, res))\n",
    "print('recall_score: ', recall_score(y_val, res))\n",
    "print('f1_score: ', f1_score(y_val, res))\n",
    "print()\n",
    "\n",
    "print(dt2.n_features_)\n",
    "weight_f = dt2.feature_importances_\n",
    "print(weight_f)\n",
    "\n",
    "print('------------------------------------')\n",
    "res = dt2.predict(tr2)\n",
    "\n",
    "print('accuracy_score: ', accuracy_score(yx, res))\n",
    "print('precision_score: ', precision_score(yx, res))\n",
    "print('recall_score: ', recall_score(yx, res))\n",
    "print('f1_score: ', f1_score(yx, res))\n",
    "print()\n",
    "\n",
    "print(dt2.n_features_)\n",
    "weight_f = dt2.feature_importances_\n",
    "print(weight_f)\n",
    "\n",
    "print('------------------------------------')\n",
    "res = dt2.predict(tr3)\n",
    "\n",
    "print('accuracy_score: ', accuracy_score(yz, res))\n",
    "print('precision_score: ', precision_score(yz, res))\n",
    "print('recall_score: ', recall_score(yz, res))\n",
    "print('f1_score: ', f1_score(yz, res))\n",
    "print()\n",
    "\n",
    "print(dt2.n_features_)\n",
    "weight_f = dt2.feature_importances_\n",
    "print(weight_f)\n",
    "\n",
    "print('------------------------------------')\n",
    "\n",
    "res = dt2.predict(tr4)\n",
    "\n",
    "print('accuracy_score: ', accuracy_score(yf, res))\n",
    "print('precision_score: ', precision_score(yf, res))\n",
    "print('recall_score: ', recall_score(yf, res))\n",
    "print('f1_score: ', f1_score(yf, res))\n",
    "print()\n",
    "\n"
   ]
  },
  {
   "cell_type": "code",
   "execution_count": 183,
   "metadata": {},
   "outputs": [
    {
     "name": "stdout",
     "output_type": "stream",
     "text": [
      "accuracy_score:  0.9990272373540856\n",
      "precision_score:  1.0\n",
      "recall_score:  0.9975961538461539\n",
      "f1_score:  0.9987966305655837\n",
      "\n",
      "11\n",
      "[0.51427511 0.22841556 0.01095283 0.24198907 0.         0.\n",
      " 0.         0.         0.         0.00436744 0.        ]\n",
      "------------------------------------\n",
      "accuracy_score:  0.8594208980276962\n",
      "precision_score:  0.9895729890764647\n",
      "recall_score:  0.7543527630582891\n",
      "f1_score:  0.8560996563573883\n",
      "\n",
      "11\n",
      "[0.51427511 0.22841556 0.01095283 0.24198907 0.         0.\n",
      " 0.         0.         0.         0.00436744 0.        ]\n",
      "------------------------------------\n",
      "accuracy_score:  1.0\n",
      "precision_score:  1.0\n",
      "recall_score:  1.0\n",
      "f1_score:  1.0\n",
      "\n",
      "11\n",
      "[0.51427511 0.22841556 0.01095283 0.24198907 0.         0.\n",
      " 0.         0.         0.         0.00436744 0.        ]\n",
      "------------------------------------\n",
      "accuracy_score:  0.9522058823529411\n",
      "precision_score:  1.0\n",
      "recall_score:  0.7493486190724336\n",
      "f1_score:  0.8567173071194518\n",
      "\n"
     ]
    }
   ],
   "source": [
    "dt2 = DecisionTreeClassifier()\n",
    "df2 = dt2.fit(xx, yy1)\n",
    "res = dt2.predict(X_val)\n",
    "\n",
    "print('accuracy_score: ', accuracy_score(y_val, res))\n",
    "print('precision_score: ', precision_score(y_val, res))\n",
    "print('recall_score: ', recall_score(y_val, res))\n",
    "print('f1_score: ', f1_score(y_val, res))\n",
    "print()\n",
    "\n",
    "print(dt2.n_features_)\n",
    "weight_f = dt2.feature_importances_\n",
    "print(weight_f)\n",
    "\n",
    "print('------------------------------------')\n",
    "res = dt2.predict(tr2)\n",
    "\n",
    "print('accuracy_score: ', accuracy_score(yx, res))\n",
    "print('precision_score: ', precision_score(yx, res))\n",
    "print('recall_score: ', recall_score(yx, res))\n",
    "print('f1_score: ', f1_score(yx, res))\n",
    "print()\n",
    "\n",
    "print(dt2.n_features_)\n",
    "weight_f = dt2.feature_importances_\n",
    "print(weight_f)\n",
    "\n",
    "print('------------------------------------')\n",
    "res = dt2.predict(tr3)\n",
    "\n",
    "print('accuracy_score: ', accuracy_score(yz, res))\n",
    "print('precision_score: ', precision_score(yz, res))\n",
    "print('recall_score: ', recall_score(yz, res))\n",
    "print('f1_score: ', f1_score(yz, res))\n",
    "print()\n",
    "\n",
    "print(dt2.n_features_)\n",
    "weight_f = dt2.feature_importances_\n",
    "print(weight_f)\n",
    "\n",
    "print('------------------------------------')\n",
    "\n",
    "res = dt2.predict(tr4)\n",
    "\n",
    "print('accuracy_score: ', accuracy_score(yf, res))\n",
    "print('precision_score: ', precision_score(yf, res))\n",
    "print('recall_score: ', recall_score(yf, res))\n",
    "print('f1_score: ', f1_score(yf, res))\n",
    "print()"
   ]
  },
  {
   "cell_type": "code",
   "execution_count": 359,
   "metadata": {},
   "outputs": [
    {
     "name": "stdout",
     "output_type": "stream",
     "text": [
      "[LibSVM]accuracy_score:  0.9163424124513618\n",
      "precision_score:  0.9910714285714286\n",
      "recall_score:  0.8004807692307693\n",
      "f1_score:  0.8856382978723404\n",
      "\n",
      "------------------------------------\n",
      "accuracy_score:  0.741502308015107\n",
      "precision_score:  0.8589613034623218\n",
      "recall_score:  0.6385314155942468\n",
      "f1_score:  0.7325227963525835\n",
      "\n",
      "------------------------------------\n",
      "accuracy_score:  0.7902955939765756\n",
      "precision_score:  0.9159318048206937\n",
      "recall_score:  0.5337444330250085\n",
      "f1_score:  0.6744588744588744\n",
      "\n",
      "------------------------------------\n",
      "accuracy_score:  0.9529014308426074\n",
      "precision_score:  0.9446153846153846\n",
      "recall_score:  0.7998957790515894\n",
      "f1_score:  0.8662528216704289\n",
      "\n"
     ]
    }
   ],
   "source": [
    "model2  = SVC(verbose = True, kernel = 'linear', tol = 0.0001,gamma = 'auto', random_state = 24)\n",
    "model2 = model2.fit(xx, yy1)\n",
    "res_lgb = model2.predict(X_val)\n",
    "res = res_lgb\n",
    "\n",
    "print('accuracy_score: ', accuracy_score(y_val, res))\n",
    "print('precision_score: ', precision_score(y_val, res))\n",
    "print('recall_score: ', recall_score(y_val, res))\n",
    "print('f1_score: ', f1_score(y_val, res))\n",
    "print()\n",
    "\n",
    "\n",
    "print('------------------------------------')\n",
    "res = model2.predict(tr2)\n",
    "\n",
    "print('accuracy_score: ', accuracy_score(yx, res))\n",
    "print('precision_score: ', precision_score(yx, res))\n",
    "print('recall_score: ', recall_score(yx, res))\n",
    "print('f1_score: ', f1_score(yx, res))\n",
    "print()\n",
    "\n",
    "\n",
    "print('------------------------------------')\n",
    "res = model2.predict(tr3)\n",
    "\n",
    "print('accuracy_score: ', accuracy_score(yz, res))\n",
    "print('precision_score: ', precision_score(yz, res))\n",
    "print('recall_score: ', recall_score(yz, res))\n",
    "print('f1_score: ', f1_score(yz, res))\n",
    "print()\n",
    "\n",
    "print('------------------------------------')\n",
    "\n",
    "res = model2.predict(tr4)\n",
    "\n",
    "print('accuracy_score: ', accuracy_score(yf, res))\n",
    "print('precision_score: ', precision_score(yf, res))\n",
    "print('recall_score: ', recall_score(yf, res))\n",
    "print('f1_score: ', f1_score(yf, res))\n",
    "print()"
   ]
  },
  {
   "cell_type": "code",
   "execution_count": null,
   "metadata": {},
   "outputs": [],
   "source": [
    "tr31 = euclid_distance(tr31)\n",
    "#можем посмотреть таким образом пары,которые были неверно распознаны (в данном случае какие несопоставимые пары были отмечены одним объектом)\n",
    "tr31['match'] = [1 if x < 0.01 else 0 for x in dd['eucl']]\n",
    "tr31.sort_values(by = ['matched'], ascending = False).sort_values(by = ['match'], ascending = True).head()"
   ]
  },
  {
   "cell_type": "markdown",
   "metadata": {},
   "source": [
    "Другой тренировочный набор (для сравнения)"
   ]
  },
  {
   "cell_type": "code",
   "execution_count": null,
   "metadata": {},
   "outputs": [],
   "source": [
    "x11 = no_data1[no_data1['eucl'] < 0.1].sample(frac = 0.065) #0.1, 0.064\n",
    "x22 = data1[data1['eucl'] > 0.001].sample(frac = 0.32) #0.5, 0.32\n",
    "\n",
    "\n",
    "x = pd.concat([x11, x22], axis = 0)\n",
    "vvx = x.copy()\n",
    "vv = len(x)\n",
    "\n",
    "x11 = no_data1[no_data1['eucl'] > 1].sample(frac = 0.036) #0.04, 0.036\n",
    "x22 = data1[data1['eucl'] < 0.01].sample(frac = 0.028)#0.028, 0.0192\n",
    "\n",
    "x = pd.concat([x, x11, x22], axis = 0)"
   ]
  },
  {
   "cell_type": "code",
   "execution_count": null,
   "metadata": {},
   "outputs": [],
   "source": [
    "x11 = no_data1[no_data1['eucl'] < 0.1]\n",
    "x11 = x11[x11['dec'] < -70]\n",
    "x11 = x11[x11['dec.1'] < -60].sample(frac = 0.09) #0.1, 0.064\n",
    "\n",
    "x22 = data1[data1['eucl'] > 0.001]\n",
    "x22 = x22[x22['dec'] < -60]\n",
    "x22 = x22[x22['dec.1'] < -50].sample(frac = 0.4) #0.5, 0.32\n",
    "\n",
    "x = pd.concat([x11, x22], axis = 0)\n",
    "vvx = x.copy()\n",
    "vv = len(x)\n",
    "\n",
    "x11 = no_data1[no_data1['eucl'] > 1]\n",
    "x11 = x11[x11['dec'] < -60]\n",
    "x11 = x11[x11['dec.1'] < -50].sample(frac = 0.17) #0.04, 0.036\n",
    "\n",
    "x22 = data1[data1['eucl'] < 0.01]\n",
    "x22 = x22[x22['dec'] < -70]\n",
    "x22 = x22[x22['dec.1'] < -60].sample(frac = 0.1)#0.028, 0.0192\n",
    "\n",
    "x = pd.concat([x, x11, x22], axis = 0)"
   ]
  },
  {
   "cell_type": "code",
   "execution_count": 313,
   "metadata": {},
   "outputs": [
    {
     "name": "stdout",
     "output_type": "stream",
     "text": [
      "808\n"
     ]
    }
   ],
   "source": [
    "print(len(x))"
   ]
  },
  {
   "cell_type": "code",
   "execution_count": 314,
   "metadata": {},
   "outputs": [
    {
     "data": {
      "text/html": [
       "<div>\n",
       "<style scoped>\n",
       "    .dataframe tbody tr th:only-of-type {\n",
       "        vertical-align: middle;\n",
       "    }\n",
       "\n",
       "    .dataframe tbody tr th {\n",
       "        vertical-align: top;\n",
       "    }\n",
       "\n",
       "    .dataframe thead th {\n",
       "        text-align: right;\n",
       "    }\n",
       "</style>\n",
       "<table border=\"1\" class=\"dataframe\">\n",
       "  <thead>\n",
       "    <tr style=\"text-align: right;\">\n",
       "      <th></th>\n",
       "      <th>eucl</th>\n",
       "      <th>ra</th>\n",
       "      <th>dec</th>\n",
       "      <th>ra.1</th>\n",
       "      <th>dec.1</th>\n",
       "      <th>phot_g_mean_flux</th>\n",
       "      <th>phot_bp_mean_flux</th>\n",
       "      <th>phot_rp_mean_flux</th>\n",
       "      <th>w1mpro</th>\n",
       "      <th>w2mpro</th>\n",
       "      <th>w3mpro</th>\n",
       "      <th>w4mpro</th>\n",
       "      <th>matched</th>\n",
       "    </tr>\n",
       "  </thead>\n",
       "  <tbody>\n",
       "    <tr>\n",
       "      <th>29</th>\n",
       "      <td>359.999760</td>\n",
       "      <td>359.999831</td>\n",
       "      <td>50.308983</td>\n",
       "      <td>0.000071</td>\n",
       "      <td>50.309007</td>\n",
       "      <td>705.206406</td>\n",
       "      <td>315.993344</td>\n",
       "      <td>578.048514</td>\n",
       "      <td>16.507</td>\n",
       "      <td>17.215</td>\n",
       "      <td>13.122</td>\n",
       "      <td>9.301</td>\n",
       "      <td>1</td>\n",
       "    </tr>\n",
       "    <tr>\n",
       "      <th>36</th>\n",
       "      <td>359.997103</td>\n",
       "      <td>359.998220</td>\n",
       "      <td>-84.023799</td>\n",
       "      <td>0.001116</td>\n",
       "      <td>-84.023793</td>\n",
       "      <td>122.091809</td>\n",
       "      <td>45.751963</td>\n",
       "      <td>112.752069</td>\n",
       "      <td>17.611</td>\n",
       "      <td>17.201</td>\n",
       "      <td>13.208</td>\n",
       "      <td>9.347</td>\n",
       "      <td>1</td>\n",
       "    </tr>\n",
       "    <tr>\n",
       "      <th>905</th>\n",
       "      <td>0.014826</td>\n",
       "      <td>0.011893</td>\n",
       "      <td>-89.857007</td>\n",
       "      <td>0.026719</td>\n",
       "      <td>-89.856993</td>\n",
       "      <td>749.786519</td>\n",
       "      <td>229.951549</td>\n",
       "      <td>840.612913</td>\n",
       "      <td>15.091</td>\n",
       "      <td>15.122</td>\n",
       "      <td>12.676</td>\n",
       "      <td>8.836</td>\n",
       "      <td>1</td>\n",
       "    </tr>\n",
       "    <tr>\n",
       "      <th>499</th>\n",
       "      <td>0.013570</td>\n",
       "      <td>0.000868</td>\n",
       "      <td>-88.294694</td>\n",
       "      <td>0.014437</td>\n",
       "      <td>-88.294567</td>\n",
       "      <td>80.682856</td>\n",
       "      <td>60.290229</td>\n",
       "      <td>116.256966</td>\n",
       "      <td>17.998</td>\n",
       "      <td>17.864</td>\n",
       "      <td>13.061</td>\n",
       "      <td>9.435</td>\n",
       "      <td>1</td>\n",
       "    </tr>\n",
       "    <tr>\n",
       "      <th>758</th>\n",
       "      <td>0.013437</td>\n",
       "      <td>0.036119</td>\n",
       "      <td>-89.448887</td>\n",
       "      <td>0.022682</td>\n",
       "      <td>-89.448891</td>\n",
       "      <td>405.679606</td>\n",
       "      <td>123.662675</td>\n",
       "      <td>443.888051</td>\n",
       "      <td>15.761</td>\n",
       "      <td>15.702</td>\n",
       "      <td>12.732</td>\n",
       "      <td>9.456</td>\n",
       "      <td>1</td>\n",
       "    </tr>\n",
       "  </tbody>\n",
       "</table>\n",
       "</div>"
      ],
      "text/plain": [
       "           eucl          ra        dec      ra.1      dec.1  phot_g_mean_flux  \\\n",
       "29   359.999760  359.999831  50.308983  0.000071  50.309007        705.206406   \n",
       "36   359.997103  359.998220 -84.023799  0.001116 -84.023793        122.091809   \n",
       "905    0.014826    0.011893 -89.857007  0.026719 -89.856993        749.786519   \n",
       "499    0.013570    0.000868 -88.294694  0.014437 -88.294567         80.682856   \n",
       "758    0.013437    0.036119 -89.448887  0.022682 -89.448891        405.679606   \n",
       "\n",
       "     phot_bp_mean_flux  phot_rp_mean_flux  w1mpro  w2mpro  w3mpro  w4mpro  \\\n",
       "29          315.993344         578.048514  16.507  17.215  13.122   9.301   \n",
       "36           45.751963         112.752069  17.611  17.201  13.208   9.347   \n",
       "905         229.951549         840.612913  15.091  15.122  12.676   8.836   \n",
       "499          60.290229         116.256966  17.998  17.864  13.061   9.435   \n",
       "758         123.662675         443.888051  15.761  15.702  12.732   9.456   \n",
       "\n",
       "     matched  \n",
       "29         1  \n",
       "36         1  \n",
       "905        1  \n",
       "499        1  \n",
       "758        1  "
      ]
     },
     "execution_count": 314,
     "metadata": {},
     "output_type": "execute_result"
    }
   ],
   "source": [
    "#есть ли примеры, когда сопоставимые пары больше заданного порога эпсилон\n",
    "data1[data1['eucl'] > 0.01].sort_values(by = ['eucl'], ascending = False).head()\n"
   ]
  },
  {
   "cell_type": "code",
   "execution_count": 315,
   "metadata": {},
   "outputs": [
    {
     "data": {
      "text/html": [
       "<div>\n",
       "<style scoped>\n",
       "    .dataframe tbody tr th:only-of-type {\n",
       "        vertical-align: middle;\n",
       "    }\n",
       "\n",
       "    .dataframe tbody tr th {\n",
       "        vertical-align: top;\n",
       "    }\n",
       "\n",
       "    .dataframe thead th {\n",
       "        text-align: right;\n",
       "    }\n",
       "</style>\n",
       "<table border=\"1\" class=\"dataframe\">\n",
       "  <thead>\n",
       "    <tr style=\"text-align: right;\">\n",
       "      <th></th>\n",
       "      <th>eucl</th>\n",
       "      <th>ra</th>\n",
       "      <th>dec</th>\n",
       "      <th>ra.1</th>\n",
       "      <th>dec.1</th>\n",
       "      <th>phot_g_mean_flux</th>\n",
       "      <th>phot_bp_mean_flux</th>\n",
       "      <th>phot_rp_mean_flux</th>\n",
       "      <th>w1mpro</th>\n",
       "      <th>w2mpro</th>\n",
       "      <th>w3mpro</th>\n",
       "      <th>w4mpro</th>\n",
       "      <th>matched</th>\n",
       "    </tr>\n",
       "  </thead>\n",
       "  <tbody>\n",
       "    <tr>\n",
       "      <th>399</th>\n",
       "      <td>0.002663</td>\n",
       "      <td>17.667137</td>\n",
       "      <td>-73.007828</td>\n",
       "      <td>17.668271</td>\n",
       "      <td>-73.005419</td>\n",
       "      <td>278.434553</td>\n",
       "      <td>163.695615</td>\n",
       "      <td>236.038185</td>\n",
       "      <td>13.722</td>\n",
       "      <td>13.817</td>\n",
       "      <td>12.875</td>\n",
       "      <td>9.32</td>\n",
       "      <td>0</td>\n",
       "    </tr>\n",
       "    <tr>\n",
       "      <th>653</th>\n",
       "      <td>0.002725</td>\n",
       "      <td>17.667137</td>\n",
       "      <td>-73.007828</td>\n",
       "      <td>17.666839</td>\n",
       "      <td>-73.010537</td>\n",
       "      <td>510.883366</td>\n",
       "      <td>456.214589</td>\n",
       "      <td>252.581683</td>\n",
       "      <td>13.722</td>\n",
       "      <td>13.817</td>\n",
       "      <td>12.875</td>\n",
       "      <td>9.32</td>\n",
       "      <td>0</td>\n",
       "    </tr>\n",
       "    <tr>\n",
       "      <th>328</th>\n",
       "      <td>0.003715</td>\n",
       "      <td>17.667137</td>\n",
       "      <td>-73.007828</td>\n",
       "      <td>17.669419</td>\n",
       "      <td>-73.010761</td>\n",
       "      <td>219.167999</td>\n",
       "      <td>207.685595</td>\n",
       "      <td>157.020166</td>\n",
       "      <td>13.722</td>\n",
       "      <td>13.817</td>\n",
       "      <td>12.875</td>\n",
       "      <td>9.32</td>\n",
       "      <td>0</td>\n",
       "    </tr>\n",
       "    <tr>\n",
       "      <th>648</th>\n",
       "      <td>0.006156</td>\n",
       "      <td>17.667137</td>\n",
       "      <td>-73.007828</td>\n",
       "      <td>17.661920</td>\n",
       "      <td>-73.011095</td>\n",
       "      <td>165.911982</td>\n",
       "      <td>192.368498</td>\n",
       "      <td>115.975896</td>\n",
       "      <td>13.722</td>\n",
       "      <td>13.817</td>\n",
       "      <td>12.875</td>\n",
       "      <td>9.32</td>\n",
       "      <td>0</td>\n",
       "    </tr>\n",
       "  </tbody>\n",
       "</table>\n",
       "</div>"
      ],
      "text/plain": [
       "         eucl         ra        dec       ra.1      dec.1  phot_g_mean_flux  \\\n",
       "399  0.002663  17.667137 -73.007828  17.668271 -73.005419        278.434553   \n",
       "653  0.002725  17.667137 -73.007828  17.666839 -73.010537        510.883366   \n",
       "328  0.003715  17.667137 -73.007828  17.669419 -73.010761        219.167999   \n",
       "648  0.006156  17.667137 -73.007828  17.661920 -73.011095        165.911982   \n",
       "\n",
       "     phot_bp_mean_flux  phot_rp_mean_flux  w1mpro  w2mpro  w3mpro  w4mpro  \\\n",
       "399         163.695615         236.038185  13.722  13.817  12.875    9.32   \n",
       "653         456.214589         252.581683  13.722  13.817  12.875    9.32   \n",
       "328         207.685595         157.020166  13.722  13.817  12.875    9.32   \n",
       "648         192.368498         115.975896  13.722  13.817  12.875    9.32   \n",
       "\n",
       "     matched  \n",
       "399        0  \n",
       "653        0  \n",
       "328        0  \n",
       "648        0  "
      ]
     },
     "execution_count": 315,
     "metadata": {},
     "output_type": "execute_result"
    }
   ],
   "source": [
    "no_data1[no_data1['eucl'] < 0.01].sort_values(by = ['eucl']).head()"
   ]
  },
  {
   "cell_type": "code",
   "execution_count": 316,
   "metadata": {},
   "outputs": [
    {
     "name": "stdout",
     "output_type": "stream",
     "text": [
      "0.1311881188118812\n"
     ]
    }
   ],
   "source": [
    "#соотношение плохих примеров\n",
    "print(vv/len(x))"
   ]
  },
  {
   "cell_type": "code",
   "execution_count": null,
   "metadata": {},
   "outputs": [],
   "source": []
  },
  {
   "cell_type": "code",
   "execution_count": null,
   "metadata": {},
   "outputs": [],
   "source": [
    "#Можем сравнить разбиение разных частей, созданных наборов по отдельным признакам\n",
    "\n",
    "plot_histogram2(x11['ra'], x33['ra'])"
   ]
  },
  {
   "cell_type": "code",
   "execution_count": null,
   "metadata": {},
   "outputs": [],
   "source": []
  },
  {
   "cell_type": "code",
   "execution_count": 317,
   "metadata": {},
   "outputs": [],
   "source": [
    "yy = x['matched']\n",
    "x = x.drop(columns=['matched', 'eucl'])"
   ]
  },
  {
   "cell_type": "code",
   "execution_count": 322,
   "metadata": {},
   "outputs": [
    {
     "name": "stdout",
     "output_type": "stream",
     "text": [
      "accuracy_score:  0.9961089494163424\n",
      "precision_score:  1.0\n",
      "recall_score:  0.9903846153846154\n",
      "f1_score:  0.9951690821256038\n",
      "\n",
      "11\n",
      "[0.26514883 0.29687833 0.11930678 0.22509081 0.         0.\n",
      " 0.         0.06600701 0.01420182 0.01336642 0.        ]\n",
      "------------------------------------\n",
      "accuracy_score:  0.8804028535459505\n",
      "precision_score:  0.9966442953020134\n",
      "recall_score:  0.7869038607115821\n",
      "f1_score:  0.8794416243654821\n",
      "\n",
      "11\n",
      "[0.26514883 0.29687833 0.11930678 0.22509081 0.         0.\n",
      " 0.         0.06600701 0.01420182 0.01336642 0.        ]\n",
      "------------------------------------\n",
      "accuracy_score:  0.9962353597322923\n",
      "precision_score:  1.0\n",
      "recall_score:  0.9907502569373073\n",
      "f1_score:  0.9953536396489417\n",
      "\n",
      "11\n",
      "[0.26514883 0.29687833 0.11930678 0.22509081 0.         0.\n",
      " 0.         0.06600701 0.01420182 0.01336642 0.        ]\n",
      "------------------------------------\n",
      "accuracy_score:  0.9876788553259142\n",
      "precision_score:  1.0\n",
      "recall_score:  0.9353830119854091\n",
      "f1_score:  0.9666128163704901\n",
      "\n"
     ]
    },
    {
     "data": {
      "image/png": "[encoded data removed]",
      "text/plain": [
       "<Figure size 1440x360 with 1 Axes>"
      ]
     },
     "metadata": {
      "needs_background": "light"
     },
     "output_type": "display_data"
    }
   ],
   "source": [
    "dt1 = DecisionTreeClassifier( criterion='gini', splitter='random', random_state = 17)\n",
    "dt1 = dt1.fit(x, yy)\n",
    "res = dt1.predict(X_val)\n",
    "\n",
    "print('accuracy_score: ', accuracy_score(y_val, res))\n",
    "print('precision_score: ', precision_score(y_val, res))\n",
    "print('recall_score: ', recall_score(y_val, res))\n",
    "print('f1_score: ', f1_score(y_val, res))\n",
    "print()\n",
    "\n",
    "print(dt1.n_features_)\n",
    "weight_f = dt1.feature_importances_\n",
    "print(weight_f)\n",
    "\n",
    "print('------------------------------------')\n",
    "res = dt1.predict(tr2)\n",
    "\n",
    "print('accuracy_score: ', accuracy_score(yx, res))\n",
    "print('precision_score: ', precision_score(yx, res))\n",
    "print('recall_score: ', recall_score(yx, res))\n",
    "print('f1_score: ', f1_score(yx, res))\n",
    "print()\n",
    "\n",
    "print(dt1.n_features_)\n",
    "weight_f = dt1.feature_importances_\n",
    "print(weight_f)\n",
    "\n",
    "print('------------------------------------')\n",
    "res = dt1.predict(tr3)\n",
    "\n",
    "print('accuracy_score: ', accuracy_score(yz, res))\n",
    "print('precision_score: ', precision_score(yz, res))\n",
    "print('recall_score: ', recall_score(yz, res))\n",
    "print('f1_score: ', f1_score(yz, res))\n",
    "print()\n",
    "\n",
    "print(dt1.n_features_)\n",
    "weight_f = dt1.feature_importances_\n",
    "print(weight_f)\n",
    "\n",
    "print('------------------------------------')\n",
    "\n",
    "res = dt1.predict(tr4)\n",
    "\n",
    "print('accuracy_score: ', accuracy_score(yf, res))\n",
    "print('precision_score: ', precision_score(yf, res))\n",
    "print('recall_score: ', recall_score(yf, res))\n",
    "print('f1_score: ', f1_score(yf, res))\n",
    "print()\n",
    "\n",
    "col_lab = []\n",
    "for i in tr2.columns:\n",
    "    col_lab.append(i)\n",
    "\n",
    "barplot(col_lab, weight_f, '', '', '', 'Вес признаков Decision Tree 1', 20, 5)"
   ]
  },
  {
   "cell_type": "code",
   "execution_count": 323,
   "metadata": {},
   "outputs": [
    {
     "name": "stdout",
     "output_type": "stream",
     "text": [
      "accuracy_score:  0.8804028535459505\n",
      "precision_score:  0.9966442953020134\n",
      "recall_score:  0.7869038607115821\n",
      "f1_score:  0.8794416243654821\n",
      "\n",
      "accuracy_score:  0.8619387326898867\n",
      "precision_score:  0.9984924623115577\n",
      "recall_score:  0.7520817562452687\n",
      "f1_score:  0.8579447322970638\n",
      "\n",
      "4766\n",
      "4766\n",
      "4766\n"
     ]
    },
    {
     "data": {
      "image/png": "[encoded data removed]",
      "text/plain": [
       "<Figure size 432x288 with 1 Axes>"
      ]
     },
     "metadata": {
      "needs_background": "light"
     },
     "output_type": "display_data"
    },
    {
     "data": {
      "image/png": "[encoded data removed]",
      "text/plain": [
       "<Figure size 432x288 with 1 Axes>"
      ]
     },
     "metadata": {
      "needs_background": "light"
     },
     "output_type": "display_data"
    }
   ],
   "source": [
    "res1 = dt1.predict(tr2)\n",
    "tr22 = tr2.copy()\n",
    "dd = euclid_distance(tr22)\n",
    "res2 =  [1 if x < 0.01 else 0 for x in dd['eucl']]\n",
    "\n",
    "print('accuracy_score: ', accuracy_score(yx, res1))\n",
    "print('precision_score: ', precision_score(yx, res1))\n",
    "print('recall_score: ', recall_score(yx, res1))\n",
    "print('f1_score: ', f1_score(yx, res1))\n",
    "print()\n",
    "\n",
    "print('accuracy_score: ', accuracy_score(yx, res2))\n",
    "print('precision_score: ', precision_score(yx, res2))\n",
    "print('recall_score: ', recall_score(yx, res2))\n",
    "print('f1_score: ', f1_score(yx, res2))\n",
    "print()\n",
    "\n",
    "print(len(res1))\n",
    "print(len(res2))\n",
    "print(len(yx))\n",
    "\n",
    "\n",
    "plot_histogram2(res1, yx)\n",
    "plot_histogram2(res2, yx)"
   ]
  },
  {
   "cell_type": "code",
   "execution_count": 324,
   "metadata": {},
   "outputs": [
    {
     "name": "stdout",
     "output_type": "stream",
     "text": [
      "accuracy_score:  0.8804028535459505\n",
      "precision_score:  0.9966442953020134\n",
      "recall_score:  0.7869038607115821\n",
      "f1_score:  0.8794416243654821\n",
      "\n",
      "accuracy_score:  0.8619387326898867\n",
      "precision_score:  0.9984924623115577\n",
      "recall_score:  0.7520817562452687\n",
      "f1_score:  0.8579447322970638\n",
      "\n",
      "4766\n",
      "4766\n",
      "4766\n"
     ]
    },
    {
     "data": {
      "image/png": "[encoded data removed]",
      "text/plain": [
       "<Figure size 432x288 with 1 Axes>"
      ]
     },
     "metadata": {
      "needs_background": "light"
     },
     "output_type": "display_data"
    },
    {
     "data": {
      "image/png": "[encoded data removed]",
      "text/plain": [
       "<Figure size 432x288 with 1 Axes>"
      ]
     },
     "metadata": {
      "needs_background": "light"
     },
     "output_type": "display_data"
    }
   ],
   "source": [
    "res1 = dt1.predict(tr2)\n",
    "tr22 = tr2.copy()\n",
    "dd = euclid_distance(tr22)\n",
    "res2 =  [1 if x < 0.01 else 0 for x in dd['eucl']]\n",
    "\n",
    "print('accuracy_score: ', accuracy_score(yx, res1))\n",
    "print('precision_score: ', precision_score(yx, res1))\n",
    "print('recall_score: ', recall_score(yx, res1))\n",
    "print('f1_score: ', f1_score(yx, res1))\n",
    "print()\n",
    "\n",
    "print('accuracy_score: ', accuracy_score(yx, res2))\n",
    "print('precision_score: ', precision_score(yx, res2))\n",
    "print('recall_score: ', recall_score(yx, res2))\n",
    "print('f1_score: ', f1_score(yx, res2))\n",
    "print()\n",
    "\n",
    "print(len(res1))\n",
    "print(len(res2))\n",
    "print(len(yx))\n",
    "\n",
    "\n",
    "plot_histogram2(res1, yx)\n",
    "plot_histogram2(res2, yx)"
   ]
  },
  {
   "cell_type": "code",
   "execution_count": 329,
   "metadata": {},
   "outputs": [
    {
     "name": "stdout",
     "output_type": "stream",
     "text": [
      "[11:57:16] WARNING: C:\\Users\\Administrator\\workspace\\xgboost-win64_release_1.2.0\\src\\learner.cc:516: \n",
      "Parameters: { eval } might not be used.\n",
      "\n",
      "  This may not be accurate due to some parameters are only used in language bindings but\n",
      "  passed down to XGBoost core.  Or some parameters are not used but slip through this\n",
      "  verification. Please open an issue if you find above cases.\n",
      "\n",
      "\n",
      "accuracy_score:  0.9980544747081712\n",
      "precision_score:  1.0\n",
      "recall_score:  0.9951923076923077\n",
      "f1_score:  0.9975903614457832\n",
      "\n",
      "[0.01912725 0.39596242 0.0088317  0.43546847 0.         0.00811838\n",
      " 0.00394756 0.00717185 0.01771156 0.09940184 0.00425888]\n",
      "------------------------------------\n",
      "accuracy_score:  0.9032731850608476\n",
      "precision_score:  0.9918809201623816\n",
      "recall_score:  0.8323239969719909\n",
      "f1_score:  0.9051245112162998\n",
      "\n",
      "[0.01912725 0.39596242 0.0088317  0.43546847 0.         0.00811838\n",
      " 0.00394756 0.00717185 0.01771156 0.09940184 0.00425888]\n",
      "------------------------------------\n",
      "accuracy_score:  0.9998605688789738\n",
      "precision_score:  1.0\n",
      "recall_score:  0.999657416923604\n",
      "f1_score:  0.9998286791159842\n",
      "\n",
      "[0.01912725 0.39596242 0.0088317  0.43546847 0.         0.00811838\n",
      " 0.00394756 0.00717185 0.01771156 0.09940184 0.00425888]\n",
      "------------------------------------\n",
      "accuracy_score:  1.0\n",
      "precision_score:  1.0\n",
      "recall_score:  1.0\n",
      "f1_score:  1.0\n",
      "\n",
      "[1.9227248e-02 3.9606240e-01 8.9317001e-03 4.3556845e-01 9.9999997e-05\n",
      " 8.2183825e-03 4.0475600e-03 7.2718468e-03 1.7811559e-02 9.9501841e-02\n",
      " 4.3588770e-03]\n",
      "11\n",
      "Index(['ra', 'dec', 'ra.1', 'dec.1', 'phot_g_mean_flux', 'phot_bp_mean_flux',\n",
      "       'phot_rp_mean_flux', 'w1mpro', 'w2mpro', 'w3mpro', 'w4mpro'],\n",
      "      dtype='object')\n",
      "11\n"
     ]
    },
    {
     "data": {
      "image/png": "[encoded data removed]",
      "text/plain": [
       "<Figure size 1440x360 with 1 Axes>"
      ]
     },
     "metadata": {
      "needs_background": "light"
     },
     "output_type": "display_data"
    }
   ],
   "source": [
    "modelx = xgb.XGBClassifier(random_state = 42, eval = 'mse')\n",
    "modelx = modelx.fit(x, yy)\n",
    "res_xgb = modelx.predict(X_val)\n",
    "res = res_xgb\n",
    "\n",
    "print('accuracy_score: ', accuracy_score(y_val, res))\n",
    "print('precision_score: ', precision_score(y_val, res))\n",
    "print('recall_score: ', recall_score(y_val, res))\n",
    "print('f1_score: ', f1_score(y_val, res))\n",
    "print()\n",
    "\n",
    "weight_f = modelx.feature_importances_\n",
    "print(weight_f)\n",
    "\n",
    "print('------------------------------------')\n",
    "res = modelx.predict(tr2)\n",
    "\n",
    "print('accuracy_score: ', accuracy_score(yx, res))\n",
    "print('precision_score: ', precision_score(yx, res))\n",
    "print('recall_score: ', recall_score(yx, res))\n",
    "print('f1_score: ', f1_score(yx, res))\n",
    "print()\n",
    "\n",
    "weight_f = modelx.feature_importances_\n",
    "print(weight_f)\n",
    "\n",
    "print('------------------------------------')\n",
    "res = modelx.predict(tr3)\n",
    "\n",
    "print('accuracy_score: ', accuracy_score(yz, res))\n",
    "print('precision_score: ', precision_score(yz, res))\n",
    "print('recall_score: ', recall_score(yz, res))\n",
    "print('f1_score: ', f1_score(yz, res))\n",
    "print()\n",
    "\n",
    "weight_f = modelx.feature_importances_\n",
    "print(weight_f)\n",
    "\n",
    "print('------------------------------------')\n",
    "\n",
    "res = modelx.predict(tr4)\n",
    "\n",
    "print('accuracy_score: ', accuracy_score(yf, res))\n",
    "print('precision_score: ', precision_score(yf, res))\n",
    "print('recall_score: ', recall_score(yf, res))\n",
    "print('f1_score: ', f1_score(yf, res))\n",
    "print()\n",
    "\n",
    "weight_f = weight_f + 0.0001\n",
    "print(weight_f)\n",
    "print(len(weight_f))\n",
    "print(x.columns)\n",
    "col_lab = x.columns\n",
    "print(len(col_lab))\n",
    "barplot(col_lab, weight_f, '', '', '', 'Вес признаков XGBoostClassifier 1', 20, 5)"
   ]
  },
  {
   "cell_type": "code",
   "execution_count": 330,
   "metadata": {},
   "outputs": [
    {
     "name": "stdout",
     "output_type": "stream",
     "text": [
      "7172\n",
      "7172\n",
      "4766\n"
     ]
    },
    {
     "data": {
      "image/png": "[encoded data removed]",
      "text/plain": [
       "<Figure size 432x288 with 1 Axes>"
      ]
     },
     "metadata": {
      "needs_background": "light"
     },
     "output_type": "display_data"
    },
    {
     "data": {
      "image/png": "[encoded data removed]",
      "text/plain": [
       "<Figure size 432x288 with 1 Axes>"
      ]
     },
     "metadata": {
      "needs_background": "light"
     },
     "output_type": "display_data"
    }
   ],
   "source": [
    "#сравнение работы модели и алгоритма эпсилон-окрестности\n",
    "res1 = modelx.predict(tr3)\n",
    "tr33 = tr3.copy()\n",
    "dd = euclid_distance(tr33)\n",
    "res2 =  [1 if x < 0.01 else 0 for x in dd['eucl']]\n",
    "\n",
    "print(len(res1))\n",
    "print(len(res2))\n",
    "print(len(yx))\n",
    "\n",
    "\n",
    "plot_histogram2(res1, yz)\n",
    "plot_histogram2(res2, yz)"
   ]
  },
  {
   "cell_type": "code",
   "execution_count": 331,
   "metadata": {},
   "outputs": [
    {
     "data": {
      "image/png": "[encoded data removed]",
      "text/plain": [
       "<Figure size 1440x360 with 1 Axes>"
      ]
     },
     "metadata": {
      "needs_background": "light"
     },
     "output_type": "display_data"
    }
   ],
   "source": [
    "col_lab = []\n",
    "for i in tr2.columns:\n",
    "    col_lab.append(i)\n",
    "\n",
    "barplot(col_lab, weight_f, '', '', '', 'Вес признаков Decision Tree 1', 20, 5)"
   ]
  },
  {
   "cell_type": "code",
   "execution_count": null,
   "metadata": {},
   "outputs": [],
   "source": [
    "model2 = lgb.LGBMClassifier(n_estimators=100, silent=True,  num_leaves = 20, learning_rate = 0.05, random_state = 27)\n",
    "model2 = model2.fit(x, yy)\n",
    "\n",
    "\n",
    "res = model2.predict(tr2)\n",
    "\n",
    "print('accuracy_score: ', accuracy_score(yx, res))\n",
    "print('precision_score: ', precision_score(yx, res))\n",
    "print('recall_score: ', recall_score(yx, res))\n",
    "print('f1_score: ', f1_score(yx, res))\n",
    "print()\n",
    "\n",
    "weight_f = model2.feature_importances_\n",
    "print(weight_f)\n",
    "\n",
    "print('------------------------------------')\n",
    "res = model2.predict(tr3)\n",
    "\n",
    "print('accuracy_score: ', accuracy_score(yz, res))\n",
    "print('precision_score: ', precision_score(yz, res))\n",
    "print('recall_score: ', recall_score(yz, res))\n",
    "print('f1_score: ', f1_score(yz, res))\n",
    "print()\n",
    "\n",
    "weight_f = model2.feature_importances_\n",
    "print(weight_f)\n",
    "\n",
    "print('------------------------------------')\n",
    "\n",
    "res = model2.predict(tr4)\n",
    "\n",
    "print('accuracy_score: ', accuracy_score(yf, res))\n",
    "print('precision_score: ', precision_score(yf, res))\n",
    "print('recall_score: ', recall_score(yf, res))\n",
    "print('f1_score: ', f1_score(yf, res))\n",
    "print()\n",
    "\n",
    "barplot(col_lab, weight_f, '', '', '', 'Вес признаков LightGBM', 20, 5)"
   ]
  },
  {
   "cell_type": "code",
   "execution_count": null,
   "metadata": {},
   "outputs": [],
   "source": [
    "model2  = KNeighborsClassifier(n_neighbors=7, weights = 'distance', algorithm='ball_tree', leaf_size=5)\n",
    "model2 = model2.fit(x, yy)\n",
    "res_lgb = model2.predict(X_val)\n",
    "res = res_lgb\n",
    "\n",
    "print('accuracy_score: ', accuracy_score(y_val, res))\n",
    "print('precision_score: ', precision_score(y_val, res))\n",
    "print('recall_score: ', recall_score(y_val, res))\n",
    "print('f1_score: ', f1_score(y_val, res))\n",
    "print()\n",
    "\n",
    "\n",
    "print('------------------------------------')\n",
    "res = model2.predict(tr2)\n",
    "\n",
    "print('accuracy_score: ', accuracy_score(yx, res))\n",
    "print('precision_score: ', precision_score(yx, res))\n",
    "print('recall_score: ', recall_score(yx, res))\n",
    "print('f1_score: ', f1_score(yx, res))\n",
    "print()\n",
    "\n",
    "\n",
    "print('------------------------------------')\n",
    "res = model2.predict(tr3)\n",
    "\n",
    "print('accuracy_score: ', accuracy_score(yz, res))\n",
    "print('precision_score: ', precision_score(yz, res))\n",
    "print('recall_score: ', recall_score(yz, res))\n",
    "print('f1_score: ', f1_score(yz, res))\n",
    "print()\n",
    "\n",
    "print('------------------------------------')\n",
    "\n",
    "res = model2.predict(tr4)\n",
    "\n",
    "print('accuracy_score: ', accuracy_score(yf, res))\n",
    "print('precision_score: ', precision_score(yf, res))\n",
    "print('recall_score: ', recall_score(yf, res))\n",
    "print('f1_score: ', f1_score(yf, res))\n",
    "print()"
   ]
  },
  {
   "cell_type": "code",
   "execution_count": null,
   "metadata": {},
   "outputs": [],
   "source": [
    "model2  = SVC(verbose = True, kernel = 'linear', tol = 0.0001,gamma = 'auto', random_state = 24)\n",
    "model2 = model2.fit(x, yy)\n",
    "res_lgb = model2.predict(X_val)\n",
    "res = res_lgb\n",
    "\n",
    "print('accuracy_score: ', accuracy_score(y_val, res))\n",
    "print('precision_score: ', precision_score(y_val, res))\n",
    "print('recall_score: ', recall_score(y_val, res))\n",
    "print('f1_score: ', f1_score(y_val, res))\n",
    "print()\n",
    "\n",
    "\n",
    "print('------------------------------------')\n",
    "res = model2.predict(tr2)\n",
    "\n",
    "print('accuracy_score: ', accuracy_score(yx, res))\n",
    "print('precision_score: ', precision_score(yx, res))\n",
    "print('recall_score: ', recall_score(yx, res))\n",
    "print('f1_score: ', f1_score(yx, res))\n",
    "print()\n",
    "\n",
    "\n",
    "print('------------------------------------')\n",
    "res = model2.predict(tr3)\n",
    "\n",
    "print('accuracy_score: ', accuracy_score(yz, res))\n",
    "print('precision_score: ', precision_score(yz, res))\n",
    "print('recall_score: ', recall_score(yz, res))\n",
    "print('f1_score: ', f1_score(yz, res))\n",
    "print()\n",
    "\n",
    "print('------------------------------------')\n",
    "\n",
    "res = model2.predict(tr4)\n",
    "\n",
    "print('accuracy_score: ', accuracy_score(yf, res))\n",
    "print('precision_score: ', precision_score(yf, res))\n",
    "print('recall_score: ', recall_score(yf, res))\n",
    "print('f1_score: ', f1_score(yf, res))\n",
    "print()"
   ]
  },
  {
   "cell_type": "code",
   "execution_count": null,
   "metadata": {},
   "outputs": [],
   "source": [
    "m = len(x.columns)\n",
    "p = len(yy.drop_duplicates())\n",
    "print(m)\n",
    "print(p)\n",
    "mlp = MLPClassifier(hidden_layer_sizes=((m+p)*150, ), solver = 'adam', learning_rate_init=0.01, max_iter=200, tol = 0.00001, verbose = False)\n",
    "mpl = mlp.fit(x, yy)\n",
    "res_mlp = mpl.predict(X_val)\n",
    "res = res_mlp\n",
    "\n",
    "print('accuracy_score: ', accuracy_score(y_val, res))\n",
    "print('precision_score: ', precision_score(y_val, res))\n",
    "print('recall_score: ', recall_score(y_val, res))\n",
    "print('f1_score: ', f1_score(y_val, res))\n",
    "print()\n",
    "\n",
    "\n",
    "print('------------------------------------')\n",
    "res = mpl.predict(tr2)\n",
    "\n",
    "print('accuracy_score: ', accuracy_score(yx, res))\n",
    "print('precision_score: ', precision_score(yx, res))\n",
    "print('recall_score: ', recall_score(yx, res))\n",
    "print('f1_score: ', f1_score(yx, res))\n",
    "print()\n",
    "\n",
    "\n",
    "print('------------------------------------')\n",
    "res = mpl.predict(tr3)\n",
    "\n",
    "print('accuracy_score: ', accuracy_score(yz, res))\n",
    "print('precision_score: ', precision_score(yz, res))\n",
    "print('recall_score: ', recall_score(yz, res))\n",
    "print('f1_score: ', f1_score(yz, res))\n",
    "print()\n",
    "\n",
    "print('------------------------------------')\n",
    "\n",
    "res = mpl.predict(tr4)\n",
    "\n",
    "print('accuracy_score: ', accuracy_score(yf, res))\n",
    "print('precision_score: ', precision_score(yf, res))\n",
    "print('recall_score: ', recall_score(yf, res))\n",
    "print('f1_score: ', f1_score(yf, res))\n",
    "print()"
   ]
  },
  {
   "cell_type": "code",
   "execution_count": null,
   "metadata": {},
   "outputs": [],
   "source": [
    "dd = euclid_distance(tr2.copy())\n",
    "dd['matched'] = yx\n",
    "\n",
    "dd['match'] =  [1 if x < 0.1 else 0 for x in dd['eucl']] #0.01-0.001\n",
    "print('accuracy_score: ', accuracy_score(dd['matched'], dd['match']))\n",
    "print('precision_score: ', precision_score(dd['matched'], dd['match']))\n",
    "print('recall_score: ', recall_score(dd['matched'], dd['match']))\n",
    "print('f1_score: ', f1_score(dd['matched'], dd['match']))\n",
    "print()"
   ]
  }
 ],
 "metadata": {
  "kernelspec": {
   "display_name": "Python 3",
   "language": "python",
   "name": "python3"
  },
  "language_info": {
   "codemirror_mode": {
    "name": "ipython",
    "version": 3
   },
   "file_extension": ".py",
   "mimetype": "text/x-python",
   "name": "python",
   "nbconvert_exporter": "python",
   "pygments_lexer": "ipython3",
   "version": "3.7.6"
  }
 },
 "nbformat": 4,
 "nbformat_minor": 4
}
