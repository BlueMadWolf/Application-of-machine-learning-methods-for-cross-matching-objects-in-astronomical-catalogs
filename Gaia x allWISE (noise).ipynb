{
 "cells": [
  {
   "cell_type": "code",
   "execution_count": null,
   "metadata": {},
   "outputs": [],
   "source": [
    "import pandas as pd\n",
    "import random\n",
    "import numpy as np\n",
    "from sklearn.metrics import precision_score, recall_score, roc_auc_score, f1_score, accuracy_score\n",
    "\n",
    "from sklearn.neighbors import KNeighborsClassifier\n",
    "from sklearn.svm import SVC\n",
    "from sklearn.tree import DecisionTreeClassifier\n",
    "from sklearn.model_selection import train_test_split\n",
    "from sklearn.model_selection import cross_val_score\n",
    "from sklearn.neural_network import MLPClassifier\n",
    "import xgboost as xgb\n",
    "import lightgbm as lgb\n",
    "\n",
    "import matplotlib\n",
    "import matplotlib.pyplot as plt"
   ]
  },
  {
   "cell_type": "code",
   "execution_count": null,
   "metadata": {},
   "outputs": [],
   "source": [
    "#евклидово расстояние\n",
    "def euclid_distance(data, x = '', y ='.1'):\n",
    "    data['eucl'] = np.sqrt((data['ra' + x] - data['ra' + y])**2 + (data['dec' + x] - data['dec' + y])**2) \n",
    "    return data\n",
    "\n",
    "    \n",
    "#графики\n",
    "\n",
    "def barplot(x_data, y_data, error_data, x_label=\"\", y_label=\"\", title=\"\", cnt_l = 40, cnt_r = 15):\n",
    "    fig, ax = plt.subplots(figsize = (cnt_l, cnt_r))\n",
    "    # Draw bars, position them in the center of the tick mark on the x-axis\n",
    "    ax.bar(x_data, y_data, color = '#539caf', align = 'center', width = 0.9)\n",
    "    # Draw error bars to show standard deviation, set ls to 'none'\n",
    "    # to remove line between points\n",
    "    ax.errorbar(x_data, y_data, color = '#297083', ls = 'none', lw = 2, capthick = 2)\n",
    "    ax.set_ylabel(y_label)\n",
    "    ax.set_xlabel(x_label)\n",
    "    ax.set_title(title)\n",
    "\n",
    "    \n",
    "    plt.show()"
   ]
  },
  {
   "cell_type": "markdown",
   "metadata": {},
   "source": [
    "Загрузка и обработка данных (по аналогии с Gaia x allWISE + добавление шума)"
   ]
  },
  {
   "cell_type": "code",
   "execution_count": null,
   "metadata": {},
   "outputs": [],
   "source": [
    "no_data = pd.DataFrame()\n",
    "for i in range(6, 10): #5,6\n",
    "    no_match_data = pd.read_csv(\"no_match_allwise_\" + str(i) + \".csv\")\n",
    "    no_data = pd.concat([no_data, no_match_data], axis = 0)\n",
    "for i in range(1, 7): #5,6\n",
    "    no_match_data = pd.read_csv(\"no_match_allwise\" + str(i) + \".csv\")\n",
    "    no_data = pd.concat([no_data, no_match_data], axis = 0)\n",
    "\n",
    "no_data = no_data.drop_duplicates()\n",
    "\n",
    "no_data['ra'] = no_data['ra'] + [random.uniform(-1, 1) for i in range(0, len(no_data))]\n",
    "no_data['dec'] = no_data['dec'] + [random.uniform(-1, 1) for i in range(0, len(no_data))]\n",
    "no_data['r'] = [random.uniform(-0.5, 0.5) for i in range(0, len(no_data))]\n",
    "no_data['matched'] = 0\n",
    "print(len(no_data))"
   ]
  },
  {
   "cell_type": "code",
   "execution_count": 7,
   "metadata": {},
   "outputs": [
    {
     "data": {
      "text/html": [
       "<div>\n",
       "<style scoped>\n",
       "    .dataframe tbody tr th:only-of-type {\n",
       "        vertical-align: middle;\n",
       "    }\n",
       "\n",
       "    .dataframe tbody tr th {\n",
       "        vertical-align: top;\n",
       "    }\n",
       "\n",
       "    .dataframe thead th {\n",
       "        text-align: right;\n",
       "    }\n",
       "</style>\n",
       "<table border=\"1\" class=\"dataframe\">\n",
       "  <thead>\n",
       "    <tr style=\"text-align: right;\">\n",
       "      <th></th>\n",
       "      <th>allwise_oid</th>\n",
       "      <th>designation</th>\n",
       "      <th>ra</th>\n",
       "      <th>dec</th>\n",
       "      <th>ra_error</th>\n",
       "      <th>dec_error</th>\n",
       "      <th>radec_co_error</th>\n",
       "      <th>w1mpro</th>\n",
       "      <th>w1mpro_error</th>\n",
       "      <th>w2mpro</th>\n",
       "      <th>...</th>\n",
       "      <th>radius_percentile_lower</th>\n",
       "      <th>radius_percentile_upper</th>\n",
       "      <th>lum_val</th>\n",
       "      <th>lum_percentile_lower</th>\n",
       "      <th>lum_percentile_upper</th>\n",
       "      <th>datalink_url</th>\n",
       "      <th>epoch_photometry_url</th>\n",
       "      <th>score</th>\n",
       "      <th>r</th>\n",
       "      <th>matched</th>\n",
       "    </tr>\n",
       "  </thead>\n",
       "  <tbody>\n",
       "    <tr>\n",
       "      <th>0</th>\n",
       "      <td>849951</td>\n",
       "      <td>J062235.52-862020.8</td>\n",
       "      <td>95.133894</td>\n",
       "      <td>-86.365869</td>\n",
       "      <td>0.6135</td>\n",
       "      <td>0.5690</td>\n",
       "      <td>0.1592</td>\n",
       "      <td>17.918</td>\n",
       "      <td>0.174</td>\n",
       "      <td>17.854</td>\n",
       "      <td>...</td>\n",
       "      <td>NaN</td>\n",
       "      <td>NaN</td>\n",
       "      <td>NaN</td>\n",
       "      <td>NaN</td>\n",
       "      <td>NaN</td>\n",
       "      <td>https://gea.esac.esa.int/data-server/datalink/...</td>\n",
       "      <td>NaN</td>\n",
       "      <td>NaN</td>\n",
       "      <td>-0.245156</td>\n",
       "      <td>0</td>\n",
       "    </tr>\n",
       "    <tr>\n",
       "      <th>1</th>\n",
       "      <td>849964</td>\n",
       "      <td>J223651.28-862020.7</td>\n",
       "      <td>340.041723</td>\n",
       "      <td>-87.119776</td>\n",
       "      <td>0.5365</td>\n",
       "      <td>0.4912</td>\n",
       "      <td>-0.1214</td>\n",
       "      <td>17.786</td>\n",
       "      <td>0.166</td>\n",
       "      <td>17.731</td>\n",
       "      <td>...</td>\n",
       "      <td>NaN</td>\n",
       "      <td>NaN</td>\n",
       "      <td>NaN</td>\n",
       "      <td>NaN</td>\n",
       "      <td>NaN</td>\n",
       "      <td>https://gea.esac.esa.int/data-server/datalink/...</td>\n",
       "      <td>NaN</td>\n",
       "      <td>NaN</td>\n",
       "      <td>-0.138921</td>\n",
       "      <td>0</td>\n",
       "    </tr>\n",
       "    <tr>\n",
       "      <th>2</th>\n",
       "      <td>851746</td>\n",
       "      <td>J233926.34-862007.0</td>\n",
       "      <td>353.918221</td>\n",
       "      <td>-86.697508</td>\n",
       "      <td>0.6831</td>\n",
       "      <td>0.6230</td>\n",
       "      <td>-0.0483</td>\n",
       "      <td>18.149</td>\n",
       "      <td>0.217</td>\n",
       "      <td>17.111</td>\n",
       "      <td>...</td>\n",
       "      <td>NaN</td>\n",
       "      <td>NaN</td>\n",
       "      <td>NaN</td>\n",
       "      <td>NaN</td>\n",
       "      <td>NaN</td>\n",
       "      <td>https://gea.esac.esa.int/data-server/datalink/...</td>\n",
       "      <td>NaN</td>\n",
       "      <td>NaN</td>\n",
       "      <td>0.203965</td>\n",
       "      <td>0</td>\n",
       "    </tr>\n",
       "    <tr>\n",
       "      <th>3</th>\n",
       "      <td>852696</td>\n",
       "      <td>J124342.62-861959.4</td>\n",
       "      <td>190.675765</td>\n",
       "      <td>-86.898634</td>\n",
       "      <td>0.5600</td>\n",
       "      <td>0.5328</td>\n",
       "      <td>0.1641</td>\n",
       "      <td>17.978</td>\n",
       "      <td>0.185</td>\n",
       "      <td>17.579</td>\n",
       "      <td>...</td>\n",
       "      <td>NaN</td>\n",
       "      <td>NaN</td>\n",
       "      <td>NaN</td>\n",
       "      <td>NaN</td>\n",
       "      <td>NaN</td>\n",
       "      <td>https://gea.esac.esa.int/data-server/datalink/...</td>\n",
       "      <td>NaN</td>\n",
       "      <td>NaN</td>\n",
       "      <td>0.441479</td>\n",
       "      <td>0</td>\n",
       "    </tr>\n",
       "    <tr>\n",
       "      <th>4</th>\n",
       "      <td>860554</td>\n",
       "      <td>J085310.47-861857.0</td>\n",
       "      <td>132.752962</td>\n",
       "      <td>-85.503490</td>\n",
       "      <td>0.6535</td>\n",
       "      <td>0.6282</td>\n",
       "      <td>-0.1823</td>\n",
       "      <td>18.103</td>\n",
       "      <td>0.200</td>\n",
       "      <td>17.622</td>\n",
       "      <td>...</td>\n",
       "      <td>NaN</td>\n",
       "      <td>NaN</td>\n",
       "      <td>NaN</td>\n",
       "      <td>NaN</td>\n",
       "      <td>NaN</td>\n",
       "      <td>https://gea.esac.esa.int/data-server/datalink/...</td>\n",
       "      <td>NaN</td>\n",
       "      <td>NaN</td>\n",
       "      <td>-0.475804</td>\n",
       "      <td>0</td>\n",
       "    </tr>\n",
       "  </tbody>\n",
       "</table>\n",
       "<p>5 rows × 139 columns</p>\n",
       "</div>"
      ],
      "text/plain": [
       "   allwise_oid          designation          ra        dec  ra_error  \\\n",
       "0       849951  J062235.52-862020.8   95.133894 -86.365869    0.6135   \n",
       "1       849964  J223651.28-862020.7  340.041723 -87.119776    0.5365   \n",
       "2       851746  J233926.34-862007.0  353.918221 -86.697508    0.6831   \n",
       "3       852696  J124342.62-861959.4  190.675765 -86.898634    0.5600   \n",
       "4       860554  J085310.47-861857.0  132.752962 -85.503490    0.6535   \n",
       "\n",
       "   dec_error  radec_co_error  w1mpro  w1mpro_error  w2mpro  ...  \\\n",
       "0     0.5690          0.1592  17.918         0.174  17.854  ...   \n",
       "1     0.4912         -0.1214  17.786         0.166  17.731  ...   \n",
       "2     0.6230         -0.0483  18.149         0.217  17.111  ...   \n",
       "3     0.5328          0.1641  17.978         0.185  17.579  ...   \n",
       "4     0.6282         -0.1823  18.103         0.200  17.622  ...   \n",
       "\n",
       "   radius_percentile_lower  radius_percentile_upper  lum_val  \\\n",
       "0                      NaN                      NaN      NaN   \n",
       "1                      NaN                      NaN      NaN   \n",
       "2                      NaN                      NaN      NaN   \n",
       "3                      NaN                      NaN      NaN   \n",
       "4                      NaN                      NaN      NaN   \n",
       "\n",
       "   lum_percentile_lower  lum_percentile_upper  \\\n",
       "0                   NaN                   NaN   \n",
       "1                   NaN                   NaN   \n",
       "2                   NaN                   NaN   \n",
       "3                   NaN                   NaN   \n",
       "4                   NaN                   NaN   \n",
       "\n",
       "                                        datalink_url  epoch_photometry_url  \\\n",
       "0  https://gea.esac.esa.int/data-server/datalink/...                   NaN   \n",
       "1  https://gea.esac.esa.int/data-server/datalink/...                   NaN   \n",
       "2  https://gea.esac.esa.int/data-server/datalink/...                   NaN   \n",
       "3  https://gea.esac.esa.int/data-server/datalink/...                   NaN   \n",
       "4  https://gea.esac.esa.int/data-server/datalink/...                   NaN   \n",
       "\n",
       "  score         r  matched  \n",
       "0   NaN -0.245156        0  \n",
       "1   NaN -0.138921        0  \n",
       "2   NaN  0.203965        0  \n",
       "3   NaN  0.441479        0  \n",
       "4   NaN -0.475804        0  \n",
       "\n",
       "[5 rows x 139 columns]"
      ]
     },
     "execution_count": 7,
     "metadata": {},
     "output_type": "execute_result"
    }
   ],
   "source": [
    "no_data.head()"
   ]
  },
  {
   "cell_type": "code",
   "execution_count": 8,
   "metadata": {},
   "outputs": [
    {
     "name": "stdout",
     "output_type": "stream",
     "text": [
      "12873\n"
     ]
    }
   ],
   "source": [
    "data = pd.DataFrame()\n",
    "for i in range(4, 6): #2,3\n",
    "    match_data = pd.read_csv(\"match_allwise_\" + str(i) + \".csv\")\n",
    "    data = pd.concat([data, match_data], axis = 0)\n",
    "for i in range(1, 6): #2,3\n",
    "    match_data = pd.read_csv(\"match_allwise\" + str(i) + \".csv\")\n",
    "    data = pd.concat([data, match_data], axis = 0)\n",
    "\n",
    "data = data.drop_duplicates()\n",
    "data['ra'] = data['ra'] + [random.uniform(-1, 1) for i in range(0, len(data))]\n",
    "data['dec'] = data['dec'] + [random.uniform(-1, 1) for i in range(0, len(data))]\n",
    "print(len(data))\n",
    "data['matched'] = 1"
   ]
  },
  {
   "cell_type": "code",
   "execution_count": 9,
   "metadata": {},
   "outputs": [],
   "source": [
    "no_data1 = (euclid_distance(no_data))[['eucl','ra','dec','ra.1','dec.1','phot_g_mean_flux', 'phot_bp_mean_flux', 'phot_rp_mean_flux', 'w1mpro', 'w2mpro', 'w3mpro','w4mpro', 'matched']]\n",
    "data1 = (euclid_distance(data))[['eucl','ra','dec','ra.1','dec.1','phot_g_mean_flux', 'phot_bp_mean_flux', 'phot_rp_mean_flux', 'w1mpro', 'w2mpro', 'w3mpro','w4mpro', 'matched']]\n",
    "\n",
    "no_data1 = no_data1.dropna()\n",
    "data1 = data1.dropna()"
   ]
  },
  {
   "cell_type": "code",
   "execution_count": null,
   "metadata": {},
   "outputs": [],
   "source": [
    "x1 = no_data1[no_data1['eucl'] < 1].sample(frac = 0.13)\n",
    "print(len(x1))\n",
    "print(len(x1.dropna()))\n",
    "\n",
    "x2 = data1[data1['eucl'] > 0.5].sample(frac = 0.01)\n",
    "print(len(x2))\n",
    "print(len(x2.dropna()))\n",
    "\n",
    "x = pd.concat([x1, x2], axis = 0)\n",
    "n1 = len(x)\n",
    "\n",
    "x1 = no_data1[no_data1['eucl'] > 1].sample(frac = 0.08)\n",
    "print(len(x1))\n",
    "print(len(x1.dropna()))\n",
    "print(len(x1.dropna()))\n",
    "\n",
    "x2 = data1[data1['eucl'] < 0.5].sample(frac = 0.35)\n",
    "print(len(x2))\n",
    "print(len(x2.dropna()))\n",
    "\n",
    "n2 = len(pd.concat([x1, x2], axis = 0))\n",
    "x = pd.concat([x, x1, x2], axis = 0)"
   ]
  },
  {
   "cell_type": "code",
   "execution_count": 11,
   "metadata": {},
   "outputs": [
    {
     "name": "stdout",
     "output_type": "stream",
     "text": [
      "0.10780065005417118\n"
     ]
    }
   ],
   "source": [
    "print(n1/ (n1+n2))"
   ]
  },
  {
   "cell_type": "code",
   "execution_count": 12,
   "metadata": {},
   "outputs": [],
   "source": [
    "dff1 = x[['ra','dec','ra.1','dec.1','phot_g_mean_flux', 'phot_bp_mean_flux', 'phot_rp_mean_flux', 'w1mpro', 'w2mpro', 'w3mpro','w4mpro', 'matched']]"
   ]
  },
  {
   "cell_type": "code",
   "execution_count": 13,
   "metadata": {},
   "outputs": [
    {
     "name": "stdout",
     "output_type": "stream",
     "text": [
      "1846\n",
      "1846\n"
     ]
    }
   ],
   "source": [
    "print(len(dff1))\n",
    "print(len(dff1.dropna()))\n",
    "dff1 = dff1.dropna()\n",
    "y1 = dff1['matched']\n",
    "dff2 = dff1.drop(columns= ['matched'])#, 'match']"
   ]
  },
  {
   "cell_type": "markdown",
   "metadata": {},
   "source": [
    "Создание обучающих и тестовых наборов, проверка работоспособности моделей"
   ]
  },
  {
   "cell_type": "code",
   "execution_count": 15,
   "metadata": {},
   "outputs": [],
   "source": [
    "X_train, X_val, y_train, y_val = train_test_split(dff2, y1, test_size=0.7, random_state=80, shuffle = True) #0.7"
   ]
  },
  {
   "cell_type": "code",
   "execution_count": 16,
   "metadata": {},
   "outputs": [
    {
     "name": "stdout",
     "output_type": "stream",
     "text": [
      "accuracy_score:  0.9930394431554525\n",
      "precision_score:  0.995475113122172\n",
      "recall_score:  0.990990990990991\n",
      "f1_score:  0.9932279909706545\n",
      "\n",
      "11\n",
      "[0.04215591 0.55850877 0.         0.38527057 0.         0.\n",
      " 0.         0.         0.         0.01406474 0.        ]\n"
     ]
    }
   ],
   "source": [
    "dt = DecisionTreeClassifier()\n",
    "dt = dt.fit(X_train, y_train)\n",
    "res = dt.predict(X_val)\n",
    "\n",
    "print('accuracy_score: ', accuracy_score(y_val, res))\n",
    "print('precision_score: ', precision_score(y_val, res))\n",
    "print('recall_score: ', recall_score(y_val, res))\n",
    "print('f1_score: ', f1_score(y_val, res))\n",
    "print()\n",
    "\n",
    "print(dt.n_features_)\n",
    "weight_f = dt.feature_importances_\n",
    "print(weight_f)"
   ]
  },
  {
   "cell_type": "code",
   "execution_count": 17,
   "metadata": {},
   "outputs": [
    {
     "name": "stdout",
     "output_type": "stream",
     "text": [
      "accuracy_score:  0.9953596287703016\n",
      "precision_score:  0.9940119760479041\n",
      "recall_score:  0.996996996996997\n",
      "f1_score:  0.9955022488755623\n",
      "\n"
     ]
    },
    {
     "data": {
      "text/plain": [
       "array([0.07918742, 0.53750193, 0.00816493, 0.24721947, 0.00688948,\n",
       "       0.00540054, 0.00427946, 0.00224813, 0.00551438, 0.09575695,\n",
       "       0.00783725], dtype=float32)"
      ]
     },
     "execution_count": 17,
     "metadata": {},
     "output_type": "execute_result"
    }
   ],
   "source": [
    "model = xgb.XGBClassifier()\n",
    "model = model.fit(X_train, y_train)\n",
    "res_xgb = model.predict(X_val)\n",
    "res = res_xgb\n",
    "\n",
    "print('accuracy_score: ', accuracy_score(y_val, res))\n",
    "print('precision_score: ', precision_score(y_val, res))\n",
    "print('recall_score: ', recall_score(y_val, res))\n",
    "print('f1_score: ', f1_score(y_val, res))\n",
    "print()\n",
    "model.feature_importances_"
   ]
  },
  {
   "cell_type": "code",
   "execution_count": 18,
   "metadata": {},
   "outputs": [
    {
     "name": "stdout",
     "output_type": "stream",
     "text": [
      "[1]\tvalid_0's binary_logloss: 0.666804\n",
      "Training until validation scores don't improve for 100 rounds\n",
      "[2]\tvalid_0's binary_logloss: 0.640726\n",
      "[3]\tvalid_0's binary_logloss: 0.616223\n",
      "[4]\tvalid_0's binary_logloss: 0.592949\n",
      "[5]\tvalid_0's binary_logloss: 0.571078\n",
      "[6]\tvalid_0's binary_logloss: 0.550183\n",
      "[7]\tvalid_0's binary_logloss: 0.530743\n",
      "[8]\tvalid_0's binary_logloss: 0.511896\n",
      "[9]\tvalid_0's binary_logloss: 0.494059\n",
      "[10]\tvalid_0's binary_logloss: 0.476993\n",
      "[11]\tvalid_0's binary_logloss: 0.46083\n",
      "[12]\tvalid_0's binary_logloss: 0.445321\n",
      "[13]\tvalid_0's binary_logloss: 0.430637\n",
      "[14]\tvalid_0's binary_logloss: 0.416496\n",
      "[15]\tvalid_0's binary_logloss: 0.402813\n",
      "[16]\tvalid_0's binary_logloss: 0.38988\n",
      "[17]\tvalid_0's binary_logloss: 0.377039\n",
      "[18]\tvalid_0's binary_logloss: 0.365189\n",
      "[19]\tvalid_0's binary_logloss: 0.353401\n",
      "[20]\tvalid_0's binary_logloss: 0.342112\n",
      "[21]\tvalid_0's binary_logloss: 0.331669\n",
      "[22]\tvalid_0's binary_logloss: 0.321743\n",
      "[23]\tvalid_0's binary_logloss: 0.311738\n",
      "[24]\tvalid_0's binary_logloss: 0.302469\n",
      "[25]\tvalid_0's binary_logloss: 0.293148\n",
      "[26]\tvalid_0's binary_logloss: 0.284256\n",
      "[27]\tvalid_0's binary_logloss: 0.276173\n",
      "[28]\tvalid_0's binary_logloss: 0.268252\n",
      "[29]\tvalid_0's binary_logloss: 0.260246\n",
      "[30]\tvalid_0's binary_logloss: 0.252596\n",
      "[31]\tvalid_0's binary_logloss: 0.24519\n",
      "[32]\tvalid_0's binary_logloss: 0.238388\n",
      "[33]\tvalid_0's binary_logloss: 0.231613\n",
      "[34]\tvalid_0's binary_logloss: 0.225249\n",
      "[35]\tvalid_0's binary_logloss: 0.218959\n",
      "[36]\tvalid_0's binary_logloss: 0.213057\n",
      "[37]\tvalid_0's binary_logloss: 0.207105\n",
      "[38]\tvalid_0's binary_logloss: 0.201646\n",
      "[39]\tvalid_0's binary_logloss: 0.196201\n",
      "[40]\tvalid_0's binary_logloss: 0.190852\n",
      "[41]\tvalid_0's binary_logloss: 0.185794\n",
      "[42]\tvalid_0's binary_logloss: 0.181132\n",
      "[43]\tvalid_0's binary_logloss: 0.176559\n",
      "[44]\tvalid_0's binary_logloss: 0.171903\n",
      "[45]\tvalid_0's binary_logloss: 0.167512\n",
      "[46]\tvalid_0's binary_logloss: 0.163173\n",
      "[47]\tvalid_0's binary_logloss: 0.158988\n",
      "[48]\tvalid_0's binary_logloss: 0.154902\n",
      "[49]\tvalid_0's binary_logloss: 0.151195\n",
      "[50]\tvalid_0's binary_logloss: 0.147374\n",
      "[51]\tvalid_0's binary_logloss: 0.143639\n",
      "[52]\tvalid_0's binary_logloss: 0.140071\n",
      "[53]\tvalid_0's binary_logloss: 0.136683\n",
      "[54]\tvalid_0's binary_logloss: 0.133369\n",
      "[55]\tvalid_0's binary_logloss: 0.130321\n",
      "[56]\tvalid_0's binary_logloss: 0.127225\n",
      "[57]\tvalid_0's binary_logloss: 0.124347\n",
      "[58]\tvalid_0's binary_logloss: 0.12157\n",
      "[59]\tvalid_0's binary_logloss: 0.118808\n",
      "[60]\tvalid_0's binary_logloss: 0.116217\n",
      "[61]\tvalid_0's binary_logloss: 0.113934\n",
      "[62]\tvalid_0's binary_logloss: 0.111433\n",
      "[63]\tvalid_0's binary_logloss: 0.109304\n",
      "[64]\tvalid_0's binary_logloss: 0.107035\n",
      "[65]\tvalid_0's binary_logloss: 0.104736\n",
      "[66]\tvalid_0's binary_logloss: 0.102521\n",
      "[67]\tvalid_0's binary_logloss: 0.100479\n",
      "[68]\tvalid_0's binary_logloss: 0.0983796\n",
      "[69]\tvalid_0's binary_logloss: 0.0963564\n",
      "[70]\tvalid_0's binary_logloss: 0.0946895\n",
      "[71]\tvalid_0's binary_logloss: 0.0928504\n",
      "[72]\tvalid_0's binary_logloss: 0.0911407\n",
      "[73]\tvalid_0's binary_logloss: 0.0894194\n",
      "[74]\tvalid_0's binary_logloss: 0.0874465\n",
      "[75]\tvalid_0's binary_logloss: 0.0857746\n",
      "[76]\tvalid_0's binary_logloss: 0.0839555\n",
      "[77]\tvalid_0's binary_logloss: 0.0823996\n",
      "[78]\tvalid_0's binary_logloss: 0.0807032\n",
      "[79]\tvalid_0's binary_logloss: 0.0790989\n",
      "[80]\tvalid_0's binary_logloss: 0.0775437\n",
      "[81]\tvalid_0's binary_logloss: 0.0760093\n",
      "[82]\tvalid_0's binary_logloss: 0.0745606\n",
      "[83]\tvalid_0's binary_logloss: 0.0731347\n",
      "[84]\tvalid_0's binary_logloss: 0.0717851\n",
      "[85]\tvalid_0's binary_logloss: 0.0703768\n",
      "[86]\tvalid_0's binary_logloss: 0.0692126\n",
      "[87]\tvalid_0's binary_logloss: 0.0679869\n",
      "[88]\tvalid_0's binary_logloss: 0.0670912\n",
      "[89]\tvalid_0's binary_logloss: 0.0658894\n",
      "[90]\tvalid_0's binary_logloss: 0.0647433\n",
      "[91]\tvalid_0's binary_logloss: 0.0636716\n",
      "[92]\tvalid_0's binary_logloss: 0.0625852\n",
      "[93]\tvalid_0's binary_logloss: 0.0615528\n",
      "[94]\tvalid_0's binary_logloss: 0.0608211\n",
      "[95]\tvalid_0's binary_logloss: 0.0596351\n",
      "[96]\tvalid_0's binary_logloss: 0.0586912\n",
      "[97]\tvalid_0's binary_logloss: 0.0575729\n",
      "[98]\tvalid_0's binary_logloss: 0.0566595\n",
      "[99]\tvalid_0's binary_logloss: 0.0556956\n",
      "[100]\tvalid_0's binary_logloss: 0.0544737\n",
      "Did not meet early stopping. Best iteration is:\n",
      "[100]\tvalid_0's binary_logloss: 0.0544737\n",
      "accuracy_score:  0.9767981438515081\n",
      "precision_score:  0.966275659824047\n",
      "recall_score:  0.9894894894894894\n",
      "f1_score:  0.9777448071216617\n",
      "\n"
     ]
    },
    {
     "data": {
      "text/plain": [
       "array([174, 233,  98, 171,  25,  65,  22,  67,  48,  49, 194])"
      ]
     },
     "execution_count": 18,
     "metadata": {},
     "output_type": "execute_result"
    }
   ],
   "source": [
    "x, xe, y1, ye = train_test_split(X_train, y_train, test_size=0.35, random_state=22, )\n",
    "model1 = lgb.LGBMClassifier(n_estimators=100, silent=True,  num_leaves = 25, learning_rate = 0.03, random_state = 27)\n",
    "model1 = model1.fit(x, y1,   eval_set=[(xe, ye)], early_stopping_rounds=100)\n",
    "res_lgb = model1.predict(X_val)\n",
    "res = res_lgb\n",
    "\n",
    "print('accuracy_score: ', accuracy_score(y_val, res))\n",
    "print('precision_score: ', precision_score(y_val, res))\n",
    "print('recall_score: ', recall_score(y_val, res))\n",
    "print('f1_score: ', f1_score(y_val, res))\n",
    "print()\n",
    "model1.feature_importances_"
   ]
  },
  {
   "cell_type": "code",
   "execution_count": null,
   "metadata": {},
   "outputs": [],
   "source": []
  },
  {
   "cell_type": "code",
   "execution_count": 19,
   "metadata": {},
   "outputs": [
    {
     "name": "stdout",
     "output_type": "stream",
     "text": [
      "3300\n",
      "3999\n"
     ]
    }
   ],
   "source": [
    "n1 = pd.DataFrame()\n",
    "for i in range(3, 10): #5,6\n",
    "    no_match_data = pd.read_csv(\"no_match_allwise_\" + str(i) + \".csv\")\n",
    "    n1 = pd.concat([n1, no_match_data], axis = 0)\n",
    "\n",
    "n1 = n1.drop_duplicates()\n",
    "n1['matched'] = 0\n",
    "n1['ra'] = n1['ra'] + [random.uniform(-2.5, 2.5) for i in range(0, len(n1))]\n",
    "n1['dec'] = n1['dec'] + [random.uniform(-2.5, 2.5) for i in range(0, len(n1))]\n",
    "print(len(n1))\n",
    "\n",
    "d1 = pd.DataFrame()\n",
    "for i in range(3, 6): #2,3\n",
    "    match_data = pd.read_csv(\"match_allwise_\" + str(i) + \".csv\")\n",
    "    d1 = pd.concat([d1, match_data], axis = 0)\n",
    "\n",
    "d1 = d1.drop_duplicates()\n",
    "print(len(d1))\n",
    "d1['ra'] = d1['ra'] + [random.uniform(-2.5, 2.5) for i in range(0, len(d1))]\n",
    "d1['dec'] = d1['dec'] + [random.uniform(-2.5, 2.5) for i in range(0, len(d1))]\n",
    "d1['matched'] = 1"
   ]
  },
  {
   "cell_type": "code",
   "execution_count": 20,
   "metadata": {},
   "outputs": [
    {
     "name": "stdout",
     "output_type": "stream",
     "text": [
      "5109\n",
      "4783\n"
     ]
    }
   ],
   "source": [
    "df_1 = pd.concat([n1, d1], axis = 0)\n",
    "\n",
    "tr1 = df_1.sample(frac = 0.7)[['ra','dec','ra.1','dec.1','phot_g_mean_flux', 'phot_bp_mean_flux', 'phot_rp_mean_flux', 'w1mpro', 'w2mpro', 'w3mpro','w4mpro', 'matched']]\n",
    "print(len(tr1))\n",
    "tr1 = tr1.dropna()\n",
    "print(len(tr1))\n",
    "yx = tr1['matched']\n",
    "tr2 = tr1.drop(columns= ['matched'])#, 'match'])\n",
    "tt2 = tr2.copy()"
   ]
  },
  {
   "cell_type": "code",
   "execution_count": 21,
   "metadata": {},
   "outputs": [
    {
     "name": "stdout",
     "output_type": "stream",
     "text": [
      "accuracy_score:  0.846748902362534\n",
      "precision_score:  0.9939607448414696\n",
      "recall_score:  0.732566765578635\n",
      "f1_score:  0.8434764040145205\n",
      "\n",
      "11\n",
      "[0.04215591 0.55850877 0.         0.38527057 0.         0.\n",
      " 0.         0.         0.         0.01406474 0.        ]\n"
     ]
    }
   ],
   "source": [
    "res = dt.predict(tr2)\n",
    "\n",
    "print('accuracy_score: ', accuracy_score(yx, res))\n",
    "print('precision_score: ', precision_score(yx, res))\n",
    "print('recall_score: ', recall_score(yx, res))\n",
    "print('f1_score: ', f1_score(yx, res))\n",
    "print()\n",
    "\n",
    "print(dt.n_features_)\n",
    "weight_f = dt.feature_importances_\n",
    "print(weight_f)"
   ]
  },
  {
   "cell_type": "code",
   "execution_count": 22,
   "metadata": {},
   "outputs": [
    {
     "name": "stdout",
     "output_type": "stream",
     "text": [
      "accuracy_score:  0.846330754756429\n",
      "precision_score:  0.9003674969375255\n",
      "recall_score:  0.8178783382789317\n",
      "f1_score:  0.8571428571428571\n",
      "\n"
     ]
    }
   ],
   "source": [
    "res_xgb = model.predict(tr2)\n",
    "res = res_xgb\n",
    "\n",
    "print('accuracy_score: ', accuracy_score(yx, res))\n",
    "print('precision_score: ', precision_score(yx, res))\n",
    "print('recall_score: ', recall_score(yx, res))\n",
    "print('f1_score: ', f1_score(yx, res))\n",
    "print()"
   ]
  },
  {
   "cell_type": "code",
   "execution_count": 23,
   "metadata": {},
   "outputs": [
    {
     "name": "stdout",
     "output_type": "stream",
     "text": [
      "accuracy_score:  0.8582479615304203\n",
      "precision_score:  0.8133540372670808\n",
      "recall_score:  0.9714391691394659\n",
      "f1_score:  0.885395537525355\n",
      "\n"
     ]
    }
   ],
   "source": [
    "res_lgb = model1.predict(tr2)\n",
    "res = res_lgb\n",
    "\n",
    "print('accuracy_score: ', accuracy_score(yx, res))\n",
    "print('precision_score: ', precision_score(yx, res))\n",
    "print('recall_score: ', recall_score(yx, res))\n",
    "print('f1_score: ', f1_score(yx, res))\n",
    "print()"
   ]
  },
  {
   "cell_type": "code",
   "execution_count": 24,
   "metadata": {},
   "outputs": [
    {
     "name": "stdout",
     "output_type": "stream",
     "text": [
      "accuracy_score:  0.4361279531674681\n",
      "precision_score:  0.3333333333333333\n",
      "recall_score:  0.000370919881305638\n",
      "f1_score:  0.0007410151908114116\n",
      "\n"
     ]
    }
   ],
   "source": [
    "dd = euclid_distance(tr1)\n",
    "\n",
    "\n",
    "dd['match'] =  [1 if x < 0.1 else 0 for x in dd['eucl']] #0.01-0.001\n",
    "print('accuracy_score: ', accuracy_score(dd['matched'], dd['match']))\n",
    "print('precision_score: ', precision_score(dd['matched'], dd['match']))\n",
    "print('recall_score: ', recall_score(dd['matched'], dd['match']))\n",
    "print('f1_score: ', f1_score(dd['matched'], dd['match']))\n",
    "print()"
   ]
  },
  {
   "cell_type": "markdown",
   "metadata": {},
   "source": [
    "Другие тестовые наборы"
   ]
  },
  {
   "cell_type": "code",
   "execution_count": 25,
   "metadata": {},
   "outputs": [
    {
     "name": "stderr",
     "output_type": "stream",
     "text": [
      "C:\\ProgramData\\Anaconda3\\lib\\site-packages\\IPython\\core\\interactiveshell.py:3063: DtypeWarning: Columns (135) have mixed types.Specify dtype option on import or set low_memory=False.\n",
      "  interactivity=interactivity, compiler=compiler, result=result)\n"
     ]
    },
    {
     "name": "stdout",
     "output_type": "stream",
     "text": [
      "9000\n",
      "9000\n",
      "2000\n",
      "2000\n",
      "11000\n",
      "10064\n"
     ]
    }
   ],
   "source": [
    "# allwise.ra between -10 .. 30\n",
    "n3 = pd.read_csv(\"no_match_allwise_12.csv\")\n",
    "n3 = pd.concat([n3, pd.read_csv(\"no_match_allwise_13.csv\")], axis = 0)\n",
    "print(len(n3))\n",
    "\n",
    "n3 = n3.drop_duplicates()\n",
    "n3['matched'] = 0\n",
    "n3['ra'] = n3['ra'] + [random.uniform(-10, 10) for i in range(0, len(n3))] #бери 3.5\n",
    "n3['dec'] = n3['dec'] + [random.uniform(-10, 10) for i in range(0, len(n3))]\n",
    "print(len(n3))\n",
    "\n",
    "d3 = pd.read_csv(\"match_allwise_8.csv\")\n",
    "print(len(d3))\n",
    "\n",
    "d3 = d3.drop_duplicates()\n",
    "print(len(d3))\n",
    "d3['ra'] = d3['ra'] + [random.uniform(-10, 10) for i in range(0, len(d3))]\n",
    "d3['dec'] = d3['dec'] + [random.uniform(-10, 10) for i in range(0, len(d3))]\n",
    "d3['matched'] = 1\n",
    "\n",
    "\n",
    "df_3 = pd.concat([n3, d3], axis = 0)\n",
    "\n",
    "tr31 = df_3[['ra','dec','ra.1','dec.1','phot_g_mean_flux', 'phot_bp_mean_flux', 'phot_rp_mean_flux', 'w1mpro', 'w2mpro', 'w3mpro','w4mpro', 'matched']]\n",
    "print(len(tr31))\n",
    "\n",
    "tr31 = tr31.dropna()\n",
    "print(len(tr31))\n",
    "yf = tr31['matched']\n",
    "tr4 = tr31.drop(columns= ['matched'])#, 'match'])"
   ]
  },
  {
   "cell_type": "code",
   "execution_count": 26,
   "metadata": {},
   "outputs": [
    {
     "name": "stdout",
     "output_type": "stream",
     "text": [
      "5000\n",
      "5000\n",
      "1800\n",
      "1800\n",
      "6800\n",
      "6000\n"
     ]
    }
   ],
   "source": [
    "# allwise.ra>30\n",
    "n2 = pd.read_csv(\"no_match_allwise_11.csv\")\n",
    "print(len(n2))\n",
    "\n",
    "n2 = n2.drop_duplicates()\n",
    "n2['matched'] = 0\n",
    "print(len(n2))\n",
    "n2['ra'] = n2['ra'] + [random.uniform(-2.5, 2.5) for i in range(0, len(n2))]\n",
    "n2['dec'] = n2['dec'] + [random.uniform(-2.5, 2.5) for i in range(0, len(n2))]\n",
    "\n",
    "d2 = pd.read_csv(\"match_allwise_7.csv\").sample(frac = 0.6)\n",
    "print(len(d2))\n",
    "\n",
    "d2 = d2.drop_duplicates()\n",
    "print(len(d2))\n",
    "d2['ra'] = d2['ra'] + [random.uniform(-2.5, 2.5) for i in range(0, len(d2))]\n",
    "d2['dec'] = d2['dec'] + [random.uniform(-2.5, 2.5) for i in range(0, len(d2))]\n",
    "d2['matched'] = 1\n",
    "\n",
    "df_2 = pd.concat([n2, d2], axis = 0)\n",
    "\n",
    "tr21 = df_2[['ra','dec','ra.1','dec.1','phot_g_mean_flux', 'phot_bp_mean_flux', 'phot_rp_mean_flux', 'w1mpro', 'w2mpro', 'w3mpro','w4mpro', 'matched']]\n",
    "print(len(tr21))\n",
    "\n",
    "tr21 = tr21.dropna()\n",
    "print(len(tr21))\n",
    "yz = tr21['matched']\n",
    "tr3 = tr21.drop(columns= ['matched'])#, 'match'])"
   ]
  },
  {
   "cell_type": "code",
   "execution_count": 27,
   "metadata": {},
   "outputs": [
    {
     "data": {
      "text/html": [
       "<div>\n",
       "<style scoped>\n",
       "    .dataframe tbody tr th:only-of-type {\n",
       "        vertical-align: middle;\n",
       "    }\n",
       "\n",
       "    .dataframe tbody tr th {\n",
       "        vertical-align: top;\n",
       "    }\n",
       "\n",
       "    .dataframe thead th {\n",
       "        text-align: right;\n",
       "    }\n",
       "</style>\n",
       "<table border=\"1\" class=\"dataframe\">\n",
       "  <thead>\n",
       "    <tr style=\"text-align: right;\">\n",
       "      <th></th>\n",
       "      <th>eucl</th>\n",
       "      <th>ra</th>\n",
       "      <th>dec</th>\n",
       "      <th>ra.1</th>\n",
       "      <th>dec.1</th>\n",
       "      <th>phot_g_mean_flux</th>\n",
       "      <th>phot_bp_mean_flux</th>\n",
       "      <th>phot_rp_mean_flux</th>\n",
       "      <th>w1mpro</th>\n",
       "      <th>w2mpro</th>\n",
       "      <th>w3mpro</th>\n",
       "      <th>w4mpro</th>\n",
       "      <th>matched</th>\n",
       "    </tr>\n",
       "  </thead>\n",
       "  <tbody>\n",
       "    <tr>\n",
       "      <th>193</th>\n",
       "      <td>0.038768</td>\n",
       "      <td>17.555539</td>\n",
       "      <td>-72.939930</td>\n",
       "      <td>17.585829</td>\n",
       "      <td>-72.915734</td>\n",
       "      <td>77.706977</td>\n",
       "      <td>119.554980</td>\n",
       "      <td>91.564600</td>\n",
       "      <td>13.722</td>\n",
       "      <td>13.817</td>\n",
       "      <td>12.875</td>\n",
       "      <td>9.320</td>\n",
       "      <td>0</td>\n",
       "    </tr>\n",
       "    <tr>\n",
       "      <th>212</th>\n",
       "      <td>0.053886</td>\n",
       "      <td>17.805500</td>\n",
       "      <td>-73.064806</td>\n",
       "      <td>17.751850</td>\n",
       "      <td>-73.069839</td>\n",
       "      <td>222.528180</td>\n",
       "      <td>241.944961</td>\n",
       "      <td>132.822459</td>\n",
       "      <td>13.722</td>\n",
       "      <td>13.817</td>\n",
       "      <td>12.875</td>\n",
       "      <td>9.320</td>\n",
       "      <td>0</td>\n",
       "    </tr>\n",
       "    <tr>\n",
       "      <th>92</th>\n",
       "      <td>0.065787</td>\n",
       "      <td>121.791404</td>\n",
       "      <td>-77.323166</td>\n",
       "      <td>121.823727</td>\n",
       "      <td>-77.380465</td>\n",
       "      <td>138.603372</td>\n",
       "      <td>47.702079</td>\n",
       "      <td>195.117932</td>\n",
       "      <td>17.192</td>\n",
       "      <td>17.497</td>\n",
       "      <td>13.374</td>\n",
       "      <td>9.667</td>\n",
       "      <td>0</td>\n",
       "    </tr>\n",
       "    <tr>\n",
       "      <th>526</th>\n",
       "      <td>0.066468</td>\n",
       "      <td>17.790309</td>\n",
       "      <td>-72.944855</td>\n",
       "      <td>17.730539</td>\n",
       "      <td>-72.973932</td>\n",
       "      <td>1277.298396</td>\n",
       "      <td>848.019972</td>\n",
       "      <td>1204.200268</td>\n",
       "      <td>13.722</td>\n",
       "      <td>13.817</td>\n",
       "      <td>12.875</td>\n",
       "      <td>9.320</td>\n",
       "      <td>0</td>\n",
       "    </tr>\n",
       "    <tr>\n",
       "      <th>87</th>\n",
       "      <td>0.081265</td>\n",
       "      <td>11.525704</td>\n",
       "      <td>-89.878026</td>\n",
       "      <td>11.467260</td>\n",
       "      <td>-89.934491</td>\n",
       "      <td>2229.996526</td>\n",
       "      <td>1137.115615</td>\n",
       "      <td>1658.251986</td>\n",
       "      <td>15.461</td>\n",
       "      <td>15.493</td>\n",
       "      <td>12.569</td>\n",
       "      <td>8.696</td>\n",
       "      <td>0</td>\n",
       "    </tr>\n",
       "  </tbody>\n",
       "</table>\n",
       "</div>"
      ],
      "text/plain": [
       "         eucl          ra        dec        ra.1      dec.1  phot_g_mean_flux  \\\n",
       "193  0.038768   17.555539 -72.939930   17.585829 -72.915734         77.706977   \n",
       "212  0.053886   17.805500 -73.064806   17.751850 -73.069839        222.528180   \n",
       "92   0.065787  121.791404 -77.323166  121.823727 -77.380465        138.603372   \n",
       "526  0.066468   17.790309 -72.944855   17.730539 -72.973932       1277.298396   \n",
       "87   0.081265   11.525704 -89.878026   11.467260 -89.934491       2229.996526   \n",
       "\n",
       "     phot_bp_mean_flux  phot_rp_mean_flux  w1mpro  w2mpro  w3mpro  w4mpro  \\\n",
       "193         119.554980          91.564600  13.722  13.817  12.875   9.320   \n",
       "212         241.944961         132.822459  13.722  13.817  12.875   9.320   \n",
       "92           47.702079         195.117932  17.192  17.497  13.374   9.667   \n",
       "526         848.019972        1204.200268  13.722  13.817  12.875   9.320   \n",
       "87         1137.115615        1658.251986  15.461  15.493  12.569   8.696   \n",
       "\n",
       "     matched  \n",
       "193        0  \n",
       "212        0  \n",
       "92         0  \n",
       "526        0  \n",
       "87         0  "
      ]
     },
     "execution_count": 27,
     "metadata": {},
     "output_type": "execute_result"
    }
   ],
   "source": [
    " no_data1[no_data1['eucl'] < 1].sort_values(by = ['eucl']).head()"
   ]
  },
  {
   "cell_type": "markdown",
   "metadata": {},
   "source": [
    "Другой тренировочный набор, более подходящий под ограничения из статьи"
   ]
  },
  {
   "cell_type": "code",
   "execution_count": 28,
   "metadata": {},
   "outputs": [
    {
     "name": "stdout",
     "output_type": "stream",
     "text": [
      "76\n",
      "76\n",
      "78\n",
      "78\n",
      "433\n",
      "433\n",
      "433\n",
      "424\n",
      "424\n",
      "0.152324431256182\n"
     ]
    }
   ],
   "source": [
    "x11 = no_data1[no_data1['eucl'] < 1].sample(frac = 0.1)\n",
    "print(len(x11))\n",
    "print(len(x11.dropna()))\n",
    "\n",
    "x22 = data1[data1['eucl'] > 1].sample(frac = 0.03)\n",
    "print(len(x22))\n",
    "print(len(x22.dropna()))\n",
    "\n",
    "x = pd.concat([x11, x22], axis = 0)\n",
    "nx = len(x)\n",
    "x11 = no_data1[no_data1['eucl'] > 1].sample(frac = 0.043)\n",
    "print(len(x11))\n",
    "print(len(x11.dropna()))\n",
    "print(len(x11.dropna()))\n",
    "\n",
    "x22 = data1[data1['eucl'] < 1].sample(frac = 0.043)\n",
    "print(len(x22))\n",
    "print(len(x22.dropna()))\n",
    "\n",
    "x = pd.concat([x, x11, x22], axis = 0)\n",
    "\n",
    "yy = x['matched']\n",
    "x = x.drop(columns=['matched', 'eucl'])\n",
    "print(nx/len(x))"
   ]
  },
  {
   "cell_type": "code",
   "execution_count": 29,
   "metadata": {},
   "outputs": [
    {
     "name": "stdout",
     "output_type": "stream",
     "text": [
      "accuracy_score:  0.9945862335653519\n",
      "precision_score:  0.9969834087481146\n",
      "recall_score:  0.9924924924924925\n",
      "f1_score:  0.9947328818660647\n",
      "\n",
      "11\n",
      "[0.01253319 0.60377947 0.         0.34946799 0.         0.\n",
      " 0.         0.00564783 0.         0.02857152 0.        ]\n",
      "------------------------------------\n",
      "accuracy_score:  0.8178967175412921\n",
      "precision_score:  0.9195402298850575\n",
      "recall_score:  0.7418397626112759\n",
      "f1_score:  0.8211866146581811\n",
      "\n",
      "11\n",
      "[0.01253319 0.60377947 0.         0.34946799 0.         0.\n",
      " 0.         0.00564783 0.         0.02857152 0.        ]\n",
      "------------------------------------\n",
      "accuracy_score:  0.9971666666666666\n",
      "precision_score:  1.0\n",
      "recall_score:  0.9902690326273612\n",
      "f1_score:  0.995110727638769\n",
      "\n",
      "11\n",
      "[0.01253319 0.60377947 0.         0.34946799 0.         0.\n",
      " 0.         0.00564783 0.         0.02857152 0.        ]\n",
      "------------------------------------\n",
      "accuracy_score:  0.7138314785373608\n",
      "precision_score:  0.39057162377590526\n",
      "recall_score:  0.8936946326211569\n",
      "f1_score:  0.5435816164817749\n",
      "\n"
     ]
    }
   ],
   "source": [
    "\n",
    "dt1 = DecisionTreeClassifier()\n",
    "dt1 = dt1.fit(x, yy)\n",
    "res = dt1.predict(X_val)\n",
    "\n",
    "print('accuracy_score: ', accuracy_score(y_val, res))\n",
    "print('precision_score: ', precision_score(y_val, res))\n",
    "print('recall_score: ', recall_score(y_val, res))\n",
    "print('f1_score: ', f1_score(y_val, res))\n",
    "print()\n",
    "\n",
    "print(dt1.n_features_)\n",
    "weight_f = dt1.feature_importances_\n",
    "print(weight_f)\n",
    "\n",
    "print('------------------------------------')\n",
    "res = dt1.predict(tr2)\n",
    "\n",
    "print('accuracy_score: ', accuracy_score(yx, res))\n",
    "print('precision_score: ', precision_score(yx, res))\n",
    "print('recall_score: ', recall_score(yx, res))\n",
    "print('f1_score: ', f1_score(yx, res))\n",
    "print()\n",
    "\n",
    "print(dt1.n_features_)\n",
    "weight_f = dt1.feature_importances_\n",
    "print(weight_f)\n",
    "\n",
    "print('------------------------------------')\n",
    "res = dt1.predict(tr3)\n",
    "\n",
    "print('accuracy_score: ', accuracy_score(yz, res))\n",
    "print('precision_score: ', precision_score(yz, res))\n",
    "print('recall_score: ', recall_score(yz, res))\n",
    "print('f1_score: ', f1_score(yz, res))\n",
    "print()\n",
    "\n",
    "print(dt1.n_features_)\n",
    "weight_f = dt1.feature_importances_\n",
    "print(weight_f)\n",
    "\n",
    "print('------------------------------------')\n",
    "\n",
    "res = dt1.predict(tr4)\n",
    "\n",
    "print('accuracy_score: ', accuracy_score(yf, res))\n",
    "print('precision_score: ', precision_score(yf, res))\n",
    "print('recall_score: ', recall_score(yf, res))\n",
    "print('f1_score: ', f1_score(yf, res))\n",
    "print()"
   ]
  },
  {
   "cell_type": "code",
   "execution_count": 31,
   "metadata": {},
   "outputs": [
    {
     "data": {
      "image/png": "[encoded data removed]",
      "text/plain": [
       "<Figure size 1440x360 with 1 Axes>"
      ]
     },
     "metadata": {
      "needs_background": "light"
     },
     "output_type": "display_data"
    }
   ],
   "source": [
    "col_lab = []\n",
    "for i in X_train.columns:\n",
    "    col_lab.append(i)\n",
    "\n",
    "barplot(col_lab, weight_f, '', '', '', 'Вес признаков Decision Tree 1', 20, 5)"
   ]
  },
  {
   "cell_type": "code",
   "execution_count": 32,
   "metadata": {},
   "outputs": [
    {
     "name": "stdout",
     "output_type": "stream",
     "text": [
      "accuracy_score:  0.9295421283713151\n",
      "precision_score:  0.9145869947275923\n",
      "recall_score:  0.9651335311572701\n",
      "f1_score:  0.9391806533116767\n",
      "\n",
      "9\n",
      "[0.25069482 0.28479806 0.02231561 0.35361111 0.03167399 0.01980002\n",
      " 0.         0.01517687 0.02192953]\n",
      "------------------------------------\n",
      "accuracy_score:  0.8831666666666667\n",
      "precision_score:  0.7450796626054358\n",
      "recall_score:  0.9101316542644533\n",
      "f1_score:  0.8193764493687195\n",
      "\n",
      "9\n",
      "[0.25069482 0.28479806 0.02231561 0.35361111 0.03167399 0.01980002\n",
      " 0.         0.01517687 0.02192953]\n",
      "------------------------------------\n"
     ]
    }
   ],
   "source": [
    "xpp = x.drop(columns=['dec', 'dec.1'])\n",
    "\n",
    "dt1 = DecisionTreeClassifier()\n",
    "dt1 = dt1.fit(xpp, yy)\n",
    "tr2pp = tr2.drop(columns=['dec', 'dec.1'])\n",
    "res = dt1.predict(tr2pp)\n",
    "\n",
    "print('accuracy_score: ', accuracy_score(yx, res))\n",
    "print('precision_score: ', precision_score(yx, res))\n",
    "print('recall_score: ', recall_score(yx, res))\n",
    "print('f1_score: ', f1_score(yx, res))\n",
    "print()\n",
    "\n",
    "print(dt1.n_features_)\n",
    "weight_f = dt1.feature_importances_\n",
    "print(weight_f)\n",
    "\n",
    "print('------------------------------------')\n",
    "tr3pp = tr3.drop(columns=['dec', 'dec.1'])\n",
    "res = dt1.predict(tr3pp)\n",
    "\n",
    "print('accuracy_score: ', accuracy_score(yz, res))\n",
    "print('precision_score: ', precision_score(yz, res))\n",
    "print('recall_score: ', recall_score(yz, res))\n",
    "print('f1_score: ', f1_score(yz, res))\n",
    "print()\n",
    "\n",
    "print(dt1.n_features_)\n",
    "weight_f = dt1.feature_importances_\n",
    "print(weight_f)\n",
    "\n",
    "print('------------------------------------')\n",
    "\n"
   ]
  },
  {
   "cell_type": "code",
   "execution_count": 33,
   "metadata": {},
   "outputs": [
    {
     "data": {
      "image/png": "[encoded data removed]",
      "text/plain": [
       "<Figure size 1440x360 with 1 Axes>"
      ]
     },
     "metadata": {
      "needs_background": "light"
     },
     "output_type": "display_data"
    }
   ],
   "source": [
    "col_lab = []\n",
    "for i in xpp.columns:\n",
    "    col_lab.append(i)\n",
    "\n",
    "barplot(col_lab, weight_f, '', '', '', 'Вес признаков Decision Tree 2', 20, 5)"
   ]
  },
  {
   "cell_type": "code",
   "execution_count": 34,
   "metadata": {},
   "outputs": [
    {
     "name": "stdout",
     "output_type": "stream",
     "text": [
      "accuracy_score:  0.8889818105791344\n",
      "precision_score:  0.8527207559465624\n",
      "recall_score:  0.9706973293768546\n",
      "f1_score:  0.9078924544666088\n",
      "\n",
      "8\n",
      "[0.25863849 0.35861048 0.23217377 0.09423458 0.00376066 0.01245961\n",
      " 0.01434305 0.02577935]\n",
      "------------------------------------\n",
      "accuracy_score:  0.8261666666666667\n",
      "precision_score:  0.6518550474547024\n",
      "recall_score:  0.8649112764739554\n",
      "f1_score:  0.743419434194342\n",
      "\n",
      "8\n",
      "[0.25863849 0.35861048 0.23217377 0.09423458 0.00376066 0.01245961\n",
      " 0.01434305 0.02577935]\n",
      "------------------------------------\n"
     ]
    }
   ],
   "source": [
    "pp = xpp.drop(columns=['phot_bp_mean_flux'])\n",
    "\n",
    "dt1 = DecisionTreeClassifier()\n",
    "dt1 = dt1.fit(pp, yy)\n",
    "tr2pp = tr2pp.drop(columns=['phot_bp_mean_flux'])\n",
    "res = dt1.predict(tr2pp)\n",
    "\n",
    "print('accuracy_score: ', accuracy_score(yx, res))\n",
    "print('precision_score: ', precision_score(yx, res))\n",
    "print('recall_score: ', recall_score(yx, res))\n",
    "print('f1_score: ', f1_score(yx, res))\n",
    "print()\n",
    "\n",
    "print(dt1.n_features_)\n",
    "weight_f = dt1.feature_importances_\n",
    "print(weight_f)\n",
    "\n",
    "print('------------------------------------')\n",
    "tr3pp = tr3pp.drop(columns=['phot_bp_mean_flux'])\n",
    "res = dt1.predict(tr3pp)\n",
    "\n",
    "print('accuracy_score: ', accuracy_score(yz, res))\n",
    "print('precision_score: ', precision_score(yz, res))\n",
    "print('recall_score: ', recall_score(yz, res))\n",
    "print('f1_score: ', f1_score(yz, res))\n",
    "print()\n",
    "\n",
    "print(dt1.n_features_)\n",
    "weight_f = dt1.feature_importances_\n",
    "print(weight_f)\n",
    "\n",
    "print('------------------------------------')\n"
   ]
  },
  {
   "cell_type": "code",
   "execution_count": 35,
   "metadata": {},
   "outputs": [
    {
     "data": {
      "image/png": "[encoded data removed]",
      "text/plain": [
       "<Figure size 1440x360 with 1 Axes>"
      ]
     },
     "metadata": {
      "needs_background": "light"
     },
     "output_type": "display_data"
    }
   ],
   "source": [
    "col_lab = []\n",
    "for i in pp.columns:\n",
    "    col_lab.append(i)\n",
    "\n",
    "barplot(col_lab, weight_f, '', '', '', 'Вес признаков Decision Tree 3', 20, 5)"
   ]
  },
  {
   "cell_type": "code",
   "execution_count": 36,
   "metadata": {},
   "outputs": [
    {
     "name": "stdout",
     "output_type": "stream",
     "text": [
      "accuracy_score:  0.9984532095901005\n",
      "precision_score:  0.9984984984984985\n",
      "recall_score:  0.9984984984984985\n",
      "f1_score:  0.9984984984984985\n",
      "\n",
      "[380 389  81 363  35  42 136 179 165  30 150]\n",
      "------------------------------------\n",
      "accuracy_score:  0.8068158059795107\n",
      "precision_score:  0.9005424954792043\n",
      "recall_score:  0.7388724035608308\n",
      "f1_score:  0.8117359413202933\n",
      "\n",
      "[380 389  81 363  35  42 136 179 165  30 150]\n",
      "------------------------------------\n",
      "accuracy_score:  1.0\n",
      "precision_score:  1.0\n",
      "recall_score:  1.0\n",
      "f1_score:  1.0\n",
      "\n",
      "[380 389  81 363  35  42 136 179 165  30 150]\n",
      "------------------------------------\n",
      "accuracy_score:  0.767587440381558\n",
      "precision_score:  0.4410112359550562\n",
      "recall_score:  0.8181344450234497\n",
      "f1_score:  0.5730972805256435\n",
      "\n"
     ]
    }
   ],
   "source": [
    "model2 = lgb.LGBMClassifier(n_estimators=100, silent=True,  num_leaves = 25, learning_rate = 0.03, random_state = 27)\n",
    "model2 = model2.fit(x, yy)\n",
    "res_lgb = model2.predict(X_val)\n",
    "res = res_lgb\n",
    "\n",
    "print('accuracy_score: ', accuracy_score(y_val, res))\n",
    "print('precision_score: ', precision_score(y_val, res))\n",
    "print('recall_score: ', recall_score(y_val, res))\n",
    "print('f1_score: ', f1_score(y_val, res))\n",
    "print()\n",
    "\n",
    "weight_f = model2.feature_importances_\n",
    "print(weight_f)\n",
    "\n",
    "print('------------------------------------')\n",
    "res = model2.predict(tr2)\n",
    "\n",
    "print('accuracy_score: ', accuracy_score(yx, res))\n",
    "print('precision_score: ', precision_score(yx, res))\n",
    "print('recall_score: ', recall_score(yx, res))\n",
    "print('f1_score: ', f1_score(yx, res))\n",
    "print()\n",
    "\n",
    "weight_f = model2.feature_importances_\n",
    "print(weight_f)\n",
    "\n",
    "print('------------------------------------')\n",
    "res = model2.predict(tr3)\n",
    "\n",
    "print('accuracy_score: ', accuracy_score(yz, res))\n",
    "print('precision_score: ', precision_score(yz, res))\n",
    "print('recall_score: ', recall_score(yz, res))\n",
    "print('f1_score: ', f1_score(yz, res))\n",
    "print()\n",
    "\n",
    "weight_f = model2.feature_importances_\n",
    "print(weight_f)\n",
    "\n",
    "print('------------------------------------')\n",
    "\n",
    "res = model2.predict(tr4)\n",
    "\n",
    "print('accuracy_score: ', accuracy_score(yf, res))\n",
    "print('precision_score: ', precision_score(yf, res))\n",
    "print('recall_score: ', recall_score(yf, res))\n",
    "print('f1_score: ', f1_score(yf, res))\n",
    "print()"
   ]
  },
  {
   "cell_type": "code",
   "execution_count": 37,
   "metadata": {},
   "outputs": [
    {
     "data": {
      "image/png": "[encoded data removed]",
      "text/plain": [
       "<Figure size 1440x360 with 1 Axes>"
      ]
     },
     "metadata": {
      "needs_background": "light"
     },
     "output_type": "display_data"
    }
   ],
   "source": [
    "col_lab = []\n",
    "for i in X_train.columns:\n",
    "    col_lab.append(i)\n",
    "\n",
    "barplot(col_lab, weight_f, '', '', '', 'Вес признаков LGBM 1', 20, 5)"
   ]
  },
  {
   "cell_type": "code",
   "execution_count": 38,
   "metadata": {},
   "outputs": [
    {
     "name": "stdout",
     "output_type": "stream",
     "text": [
      "accuracy_score:  0.9280742459396751\n",
      "precision_score:  0.920704845814978\n",
      "recall_score:  0.9414414414414415\n",
      "f1_score:  0.9309576837416481\n",
      "\n",
      "------------------------------------\n",
      "accuracy_score:  0.688689107254861\n",
      "precision_score:  0.66140679326023\n",
      "recall_score:  0.9172848664688428\n",
      "f1_score:  0.7686091686091687\n",
      "\n",
      "------------------------------------\n",
      "accuracy_score:  0.4498333333333333\n",
      "precision_score:  0.3351018675721562\n",
      "recall_score:  0.9038351459645106\n",
      "f1_score:  0.48893017494968266\n",
      "\n",
      "------------------------------------\n",
      "accuracy_score:  0.32442368839427665\n",
      "precision_score:  0.2064485081809432\n",
      "recall_score:  0.89421573736321\n",
      "f1_score:  0.3354510800508259\n",
      "\n"
     ]
    }
   ],
   "source": [
    "model2  = KNeighborsClassifier(n_neighbors=3, algorithm='auto', leaf_size=10)\n",
    "model2 = model2.fit(x, yy)\n",
    "res_lgb = model2.predict(X_val)\n",
    "res = res_lgb\n",
    "\n",
    "print('accuracy_score: ', accuracy_score(y_val, res))\n",
    "print('precision_score: ', precision_score(y_val, res))\n",
    "print('recall_score: ', recall_score(y_val, res))\n",
    "print('f1_score: ', f1_score(y_val, res))\n",
    "print()\n",
    "\n",
    "\n",
    "print('------------------------------------')\n",
    "res = model2.predict(tr2)\n",
    "\n",
    "print('accuracy_score: ', accuracy_score(yx, res))\n",
    "print('precision_score: ', precision_score(yx, res))\n",
    "print('recall_score: ', recall_score(yx, res))\n",
    "print('f1_score: ', f1_score(yx, res))\n",
    "print()\n",
    "\n",
    "\n",
    "print('------------------------------------')\n",
    "res = model2.predict(tr3)\n",
    "\n",
    "print('accuracy_score: ', accuracy_score(yz, res))\n",
    "print('precision_score: ', precision_score(yz, res))\n",
    "print('recall_score: ', recall_score(yz, res))\n",
    "print('f1_score: ', f1_score(yz, res))\n",
    "print()\n",
    "\n",
    "print('------------------------------------')\n",
    "\n",
    "res = model2.predict(tr4)\n",
    "\n",
    "print('accuracy_score: ', accuracy_score(yf, res))\n",
    "print('precision_score: ', precision_score(yf, res))\n",
    "print('recall_score: ', recall_score(yf, res))\n",
    "print('f1_score: ', f1_score(yf, res))\n",
    "print()"
   ]
  },
  {
   "cell_type": "code",
   "execution_count": 39,
   "metadata": {},
   "outputs": [
    {
     "name": "stdout",
     "output_type": "stream",
     "text": [
      "[LibSVM]accuracy_score:  0.9389017788089714\n",
      "precision_score:  0.9536321483771252\n",
      "recall_score:  0.9264264264264265\n",
      "f1_score:  0.9398324447829399\n",
      "\n",
      "------------------------------------\n",
      "accuracy_score:  0.6136316119590215\n",
      "precision_score:  0.650354609929078\n",
      "recall_score:  0.68026706231454\n",
      "f1_score:  0.6649746192893401\n",
      "\n",
      "------------------------------------\n",
      "accuracy_score:  0.7463333333333333\n",
      "precision_score:  0.5417130144605117\n",
      "recall_score:  0.8362907842014883\n",
      "f1_score:  0.6575157515751575\n",
      "\n",
      "------------------------------------\n",
      "accuracy_score:  0.8748012718600954\n",
      "precision_score:  0.6727844782380703\n",
      "recall_score:  0.6685773840541949\n",
      "f1_score:  0.6706743335075798\n",
      "\n"
     ]
    }
   ],
   "source": [
    "model2  = SVC(verbose = True, kernel = 'linear', tol = 0.0001,gamma = 'auto', random_state = 24)\n",
    "model2 = model2.fit(x, yy)\n",
    "res_lgb = model2.predict(X_val)\n",
    "res = res_lgb\n",
    "\n",
    "print('accuracy_score: ', accuracy_score(y_val, res))\n",
    "print('precision_score: ', precision_score(y_val, res))\n",
    "print('recall_score: ', recall_score(y_val, res))\n",
    "print('f1_score: ', f1_score(y_val, res))\n",
    "print()\n",
    "\n",
    "\n",
    "print('------------------------------------')\n",
    "res = model2.predict(tr2)\n",
    "\n",
    "print('accuracy_score: ', accuracy_score(yx, res))\n",
    "print('precision_score: ', precision_score(yx, res))\n",
    "print('recall_score: ', recall_score(yx, res))\n",
    "print('f1_score: ', f1_score(yx, res))\n",
    "print()\n",
    "\n",
    "\n",
    "print('------------------------------------')\n",
    "res = model2.predict(tr3)\n",
    "\n",
    "print('accuracy_score: ', accuracy_score(yz, res))\n",
    "print('precision_score: ', precision_score(yz, res))\n",
    "print('recall_score: ', recall_score(yz, res))\n",
    "print('f1_score: ', f1_score(yz, res))\n",
    "print()\n",
    "\n",
    "print('------------------------------------')\n",
    "\n",
    "res = model2.predict(tr4)\n",
    "\n",
    "print('accuracy_score: ', accuracy_score(yf, res))\n",
    "print('precision_score: ', precision_score(yf, res))\n",
    "print('recall_score: ', recall_score(yf, res))\n",
    "print('f1_score: ', f1_score(yf, res))\n",
    "print()"
   ]
  },
  {
   "cell_type": "code",
   "execution_count": 40,
   "metadata": {},
   "outputs": [
    {
     "name": "stdout",
     "output_type": "stream",
     "text": [
      "11\n",
      "2\n"
     ]
    },
    {
     "name": "stderr",
     "output_type": "stream",
     "text": [
      "C:\\ProgramData\\Anaconda3\\lib\\site-packages\\sklearn\\neural_network\\_multilayer_perceptron.py:571: ConvergenceWarning: Stochastic Optimizer: Maximum iterations (200) reached and the optimization hasn't converged yet.\n",
      "  % self.max_iter, ConvergenceWarning)\n"
     ]
    },
    {
     "name": "stdout",
     "output_type": "stream",
     "text": [
      "accuracy_score:  0.9010054137664346\n",
      "precision_score:  0.8502604166666666\n",
      "recall_score:  0.9804804804804805\n",
      "f1_score:  0.9107391910739191\n",
      "\n",
      "------------------------------------\n",
      "accuracy_score:  0.7183775872883128\n",
      "precision_score:  0.6900535362073824\n",
      "recall_score:  0.9083827893175074\n",
      "f1_score:  0.7843074459567656\n",
      "\n",
      "------------------------------------\n",
      "accuracy_score:  0.5851666666666666\n",
      "precision_score:  0.40185185185185185\n",
      "recall_score:  0.86949055523755\n",
      "f1_score:  0.5496652795368192\n",
      "\n",
      "------------------------------------\n",
      "accuracy_score:  0.7131359300476947\n",
      "precision_score:  0.39780405405405406\n",
      "recall_score:  0.9817613340281397\n",
      "f1_score:  0.5661908339594289\n",
      "\n"
     ]
    }
   ],
   "source": [
    "m = len(x.columns)\n",
    "p = len(yy.drop_duplicates())\n",
    "print(m)\n",
    "print(p)\n",
    "mlp = MLPClassifier(hidden_layer_sizes=((m+p)*150, ), solver = 'adam', learning_rate_init=0.01, max_iter=200, tol = 0.00001, verbose = False)\n",
    "mpl = mlp.fit(x, yy)\n",
    "res_mlp = mpl.predict(X_val)\n",
    "res = res_mlp\n",
    "\n",
    "print('accuracy_score: ', accuracy_score(y_val, res))\n",
    "print('precision_score: ', precision_score(y_val, res))\n",
    "print('recall_score: ', recall_score(y_val, res))\n",
    "print('f1_score: ', f1_score(y_val, res))\n",
    "print()\n",
    "\n",
    "\n",
    "print('------------------------------------')\n",
    "res = mpl.predict(tr2)\n",
    "\n",
    "print('accuracy_score: ', accuracy_score(yx, res))\n",
    "print('precision_score: ', precision_score(yx, res))\n",
    "print('recall_score: ', recall_score(yx, res))\n",
    "print('f1_score: ', f1_score(yx, res))\n",
    "print()\n",
    "\n",
    "\n",
    "print('------------------------------------')\n",
    "res = mpl.predict(tr3)\n",
    "\n",
    "print('accuracy_score: ', accuracy_score(yz, res))\n",
    "print('precision_score: ', precision_score(yz, res))\n",
    "print('recall_score: ', recall_score(yz, res))\n",
    "print('f1_score: ', f1_score(yz, res))\n",
    "print()\n",
    "\n",
    "print('------------------------------------')\n",
    "\n",
    "res = mpl.predict(tr4)\n",
    "\n",
    "print('accuracy_score: ', accuracy_score(yf, res))\n",
    "print('precision_score: ', precision_score(yf, res))\n",
    "print('recall_score: ', recall_score(yf, res))\n",
    "print('f1_score: ', f1_score(yf, res))\n",
    "print()"
   ]
  },
  {
   "cell_type": "code",
   "execution_count": 62,
   "metadata": {},
   "outputs": [
    {
     "name": "stdout",
     "output_type": "stream",
     "text": [
      "accuracy_score:  0.9984508133230054\n",
      "precision_score:  0.9970014992503748\n",
      "recall_score:  1.0\n",
      "f1_score:  0.9984984984984985\n",
      "\n",
      "[4.6092954e-02 5.2118909e-01 0.0000000e+00 2.0620330e-01 2.8853072e-04\n",
      " 9.5590943e-04 1.0736411e-03 2.3366598e-02 1.3451791e-01 4.4980329e-02\n",
      " 2.1331789e-02]\n",
      "------------------------------------\n",
      "accuracy_score:  0.8243525480367586\n",
      "precision_score:  0.9195561719833565\n",
      "recall_score:  0.7488704819277109\n",
      "f1_score:  0.8254824652417515\n",
      "\n",
      "[4.6092954e-02 5.2118909e-01 0.0000000e+00 2.0620330e-01 2.8853072e-04\n",
      " 9.5590943e-04 1.0736411e-03 2.3366598e-02 1.3451791e-01 4.4980329e-02\n",
      " 2.1331789e-02]\n",
      "------------------------------------\n",
      "accuracy_score:  0.9995\n",
      "precision_score:  1.0\n",
      "recall_score:  0.998282770463652\n",
      "f1_score:  0.9991406473789745\n",
      "\n",
      "[4.6092954e-02 5.2118909e-01 0.0000000e+00 2.0620330e-01 2.8853072e-04\n",
      " 9.5590943e-04 1.0736411e-03 2.3366598e-02 1.3451791e-01 4.4980329e-02\n",
      " 2.1331789e-02]\n",
      "------------------------------------\n",
      "accuracy_score:  0.5758147853736089\n",
      "precision_score:  0.29174051754696917\n",
      "recall_score:  0.8577384054194893\n",
      "f1_score:  0.43539214389631004\n",
      "\n"
     ]
    }
   ],
   "source": [
    "modelx = xgb.XGBClassifier()\n",
    "modelx = modelx.fit(x, yy)\n",
    "res_xgb = modelx.predict(X_val)\n",
    "res = res_xgb\n",
    "\n",
    "print('accuracy_score: ', accuracy_score(y_val, res))\n",
    "print('precision_score: ', precision_score(y_val, res))\n",
    "print('recall_score: ', recall_score(y_val, res))\n",
    "print('f1_score: ', f1_score(y_val, res))\n",
    "print()\n",
    "\n",
    "weight_f = modelx.feature_importances_\n",
    "print(weight_f)\n",
    "\n",
    "print('------------------------------------')\n",
    "res = modelx.predict(tr2)\n",
    "\n",
    "print('accuracy_score: ', accuracy_score(yx, res))\n",
    "print('precision_score: ', precision_score(yx, res))\n",
    "print('recall_score: ', recall_score(yx, res))\n",
    "print('f1_score: ', f1_score(yx, res))\n",
    "print()\n",
    "\n",
    "weight_f = modelx.feature_importances_\n",
    "print(weight_f)\n",
    "\n",
    "print('------------------------------------')\n",
    "res = modelx.predict(tr3)\n",
    "\n",
    "print('accuracy_score: ', accuracy_score(yz, res))\n",
    "print('precision_score: ', precision_score(yz, res))\n",
    "print('recall_score: ', recall_score(yz, res))\n",
    "print('f1_score: ', f1_score(yz, res))\n",
    "print()\n",
    "\n",
    "weight_f = modelx.feature_importances_\n",
    "print(weight_f)\n",
    "\n",
    "print('------------------------------------')\n",
    "\n",
    "res = modelx.predict(tr4)\n",
    "\n",
    "print('accuracy_score: ', accuracy_score(yf, res))\n",
    "print('precision_score: ', precision_score(yf, res))\n",
    "print('recall_score: ', recall_score(yf, res))\n",
    "print('f1_score: ', f1_score(yf, res))\n",
    "print()\n"
   ]
  },
  {
   "cell_type": "code",
   "execution_count": 63,
   "metadata": {},
   "outputs": [
    {
     "data": {
      "image/png": "[encoded data removed]",
      "text/plain": [
       "<Figure size 1440x360 with 1 Axes>"
      ]
     },
     "metadata": {
      "needs_background": "light"
     },
     "output_type": "display_data"
    }
   ],
   "source": [
    "col_lab = []\n",
    "for i in X_train.columns:\n",
    "    col_lab.append(i)\n",
    "\n",
    "barplot(col_lab, weight_f, '', '', '', 'Вес признаков XGBoost 1', 20, 5)"
   ]
  },
  {
   "cell_type": "code",
   "execution_count": 67,
   "metadata": {},
   "outputs": [
    {
     "name": "stdout",
     "output_type": "stream",
     "text": [
      "accuracy_score:  0.4452798663324979\n",
      "precision_score:  0.5\n",
      "recall_score:  0.00037650602409638556\n",
      "f1_score:  0.0007524454477050415\n",
      "\n",
      "accuracy_score:  0.4849624060150376\n",
      "precision_score:  0.7199074074074074\n",
      "recall_score:  0.1170933734939759\n",
      "f1_score:  0.20142487046632127\n",
      "\n",
      "accuracy_score:  0.8110095389507154\n",
      "precision_score:  1.0\n",
      "recall_score:  0.008858780614903595\n",
      "f1_score:  0.017561983471074377\n",
      "\n",
      "accuracy_score:  0.4849624060150376\n",
      "precision_score:  0.7199074074074074\n",
      "recall_score:  0.1170933734939759\n",
      "f1_score:  0.20142487046632127\n",
      "\n"
     ]
    }
   ],
   "source": [
    "dd = euclid_distance(tr1)\n",
    "\n",
    "\n",
    "dd['match'] =  [1 if x < 0.1 else 0 for x in dd['eucl']] #0.01-0.001\n",
    "print('accuracy_score: ', accuracy_score(dd['matched'], dd['match']))\n",
    "print('precision_score: ', precision_score(dd['matched'], dd['match']))\n",
    "print('recall_score: ', recall_score(dd['matched'], dd['match']))\n",
    "print('f1_score: ', f1_score(dd['matched'], dd['match']))\n",
    "print()\n",
    "\n",
    "tt2['matched'] = yx\n",
    "dd = euclid_distance(tt2)\n",
    "\n",
    "\n",
    "dd['match'] =  [1 if x < 1 else 0 for x in dd['eucl']] #0.01-0.001\n",
    "print('accuracy_score: ', accuracy_score(dd['matched'], dd['match']))\n",
    "print('precision_score: ', precision_score(dd['matched'], dd['match']))\n",
    "print('recall_score: ', recall_score(dd['matched'], dd['match']))\n",
    "print('f1_score: ', f1_score(dd['matched'], dd['match']))\n",
    "print()\n",
    "\n",
    "dd = euclid_distance(tr31)\n",
    "\n",
    "\n",
    "dd['match'] =  [1 if x < 1 else 0 for x in dd['eucl']] #0.01-0.001\n",
    "print('accuracy_score: ', accuracy_score(dd['matched'], dd['match']))\n",
    "print('precision_score: ', precision_score(dd['matched'], dd['match']))\n",
    "print('recall_score: ', recall_score(dd['matched'], dd['match']))\n",
    "print('f1_score: ', f1_score(dd['matched'], dd['match']))\n",
    "print()\n",
    "\n",
    "dd = euclid_distance(tr1)\n",
    "\n",
    "\n",
    "dd['match'] =  [1 if x < 1 else 0 for x in dd['eucl']] #0.01-0.001\n",
    "print('accuracy_score: ', accuracy_score(dd['matched'], dd['match']))\n",
    "print('precision_score: ', precision_score(dd['matched'], dd['match']))\n",
    "print('recall_score: ', recall_score(dd['matched'], dd['match']))\n",
    "print('f1_score: ', f1_score(dd['matched'], dd['match']))\n",
    "print()\n"
   ]
  },
  {
   "cell_type": "code",
   "execution_count": 68,
   "metadata": {},
   "outputs": [
    {
     "name": "stdout",
     "output_type": "stream",
     "text": [
      "accuracy_score:  0.6209273182957393\n",
      "precision_score:  0.7345231455660903\n",
      "recall_score:  0.49585843373493976\n",
      "f1_score:  0.5920431557653405\n",
      "\n"
     ]
    }
   ],
   "source": [
    "dd = euclid_distance(tt2)\n",
    "\n",
    "\n",
    "dd['match'] =  [1 if x < 2 else 0 for x in dd['eucl']] #0.01-0.001\n",
    "print('accuracy_score: ', accuracy_score(dd['matched'], dd['match']))\n",
    "print('precision_score: ', precision_score(dd['matched'], dd['match']))\n",
    "print('recall_score: ', recall_score(dd['matched'], dd['match']))\n",
    "print('f1_score: ', f1_score(dd['matched'], dd['match']))\n",
    "print()"
   ]
  },
  {
   "cell_type": "code",
   "execution_count": 69,
   "metadata": {},
   "outputs": [
    {
     "name": "stdout",
     "output_type": "stream",
     "text": [
      "accuracy_score:  0.4452798663324979\n",
      "precision_score:  0.5\n",
      "recall_score:  0.00037650602409638556\n",
      "f1_score:  0.0007524454477050415\n",
      "\n"
     ]
    }
   ],
   "source": [
    "dd = euclid_distance(tt2)\n",
    "\n",
    "\n",
    "dd['match'] =  [1 if x < 0.1 else 0 for x in dd['eucl']] #0.01-0.001\n",
    "print('accuracy_score: ', accuracy_score(dd['matched'], dd['match']))\n",
    "print('precision_score: ', precision_score(dd['matched'], dd['match']))\n",
    "print('recall_score: ', recall_score(dd['matched'], dd['match']))\n",
    "print('f1_score: ', f1_score(dd['matched'], dd['match']))\n",
    "print()"
   ]
  }
 ],
 "metadata": {
  "kernelspec": {
   "display_name": "Python 3",
   "language": "python",
   "name": "python3"
  },
  "language_info": {
   "codemirror_mode": {
    "name": "ipython",
    "version": 3
   },
   "file_extension": ".py",
   "mimetype": "text/x-python",
   "name": "python",
   "nbconvert_exporter": "python",
   "pygments_lexer": "ipython3",
   "version": "3.7.6"
  }
 },
 "nbformat": 4,
 "nbformat_minor": 4
}
