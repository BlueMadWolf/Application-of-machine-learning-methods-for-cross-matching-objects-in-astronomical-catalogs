{
 "cells": [
  {
   "cell_type": "code",
   "execution_count": 1,
   "metadata": {},
   "outputs": [],
   "source": [
    "import pandas as pd\n",
    "import numpy as np\n",
    "from sklearn.metrics import precision_score, recall_score, roc_auc_score, f1_score, accuracy_score\n",
    "\n",
    "from sklearn.neighbors import KNeighborsClassifier\n",
    "from sklearn.svm import SVC\n",
    "from sklearn.tree import DecisionTreeClassifier\n",
    "from sklearn.model_selection import train_test_split\n",
    "from sklearn.model_selection import cross_val_score\n",
    "from sklearn.neural_network import MLPClassifier\n",
    "import numpy as np\n",
    "import xgboost as xgb\n",
    "import lightgbm as lgb\n",
    "\n",
    "\n",
    "import matplotlib\n",
    "import matplotlib.pyplot as plt\n"
   ]
  },
  {
   "cell_type": "code",
   "execution_count": 2,
   "metadata": {},
   "outputs": [],
   "source": [
    "\n",
    "#удаляем лишние параметры и те, в которых нет данных\n",
    "def change_frame(data):\n",
    "    id = data[['source_id','original_ext_source_id', 'sdssdr9_oid', 'sdssdr9_oid.1','solution_id', 'designation']]\n",
    "    #data1 = data.drop(columns = ['source_id', 'source_id.1', 'original_ext_source_id', 'sdssdr9_oid', 'sdssdr9_oid.1', 'solution_id', 'designation'])\n",
    "    '''data1 = data.drop(columns = ['number_of_neighbours','number_of_mates','best_neighbour_multiplicity', 'astrometric_n_obs_al',\n",
    "                                        'astrometric_n_obs_ac', 'astrometric_n_good_obs_al', 'astrometric_n_bad_obs_al','astrometric_gof_al',\n",
    "                                        'astrometric_chi2_al','astrometric_excess_noise','astrometric_excess_noise_sig',\n",
    "                                        'astrometric_params_solved','astrometric_primary_flag','astrometric_weight_al',\n",
    "                                        'astrometric_pseudo_colour', 'astrometric_pseudo_colour_error','mean_varpi_factor_al',\n",
    "                                        'astrometric_matched_observations','visibility_periods_used','astrometric_sigma5d_max',\n",
    "                                        'frame_rotator_object_type','matched_observations','duplicated_source','phot_g_n_obs',\n",
    "                                        'phot_bp_n_obs' ,'phot_rp_n_obs','radial_velocity','radial_velocity_error','rv_nb_transits',\n",
    "                                        'rv_template_teff','rv_template_logg', 'rv_template_fe_h','phot_variable_flag','l','b','ecl_lon','ecl_lat','priam_flags',\n",
    "                                        'teff_val','teff_percentile_lower','teff_percentile_upper','a_g_val','a_g_percentile_lower',\n",
    "                                        'a_g_percentile_upper','e_bp_min_rp_val','e_bp_min_rp_percentile_lower','e_bp_min_rp_percentile_upper',\n",
    "                                        'flame_flags','radius_val','radius_percentile_lower','radius_percentile_upper','lum_val','lum_percentile_lower',\n",
    "                                        'lum_percentile_upper','datalink_url','epoch_photometry_url','obj_id','thing_id','clean_flag'])\n",
    "    '''\n",
    "    data1 = data[['source_id', 'source_id.1', 'original_ext_source_id', 'sdssdr9_oid', 'sdssdr9_oid.1','ra','dec','ra.1','dec.1','phot_g_mean_flux', 'phot_bp_mean_flux', 'phot_rp_mean_flux', 'u_mag', 'g_mag', 'z_mag', 'r_mag', 'i_mag']]\n",
    "    data1 = data1.drop(columns = data1.columns[data1.isna().all()].tolist())\n",
    "    data1 = data1.dropna()\n",
    "    print(len(data1))\n",
    "    return id, data1"
   ]
  },
  {
   "cell_type": "code",
   "execution_count": null,
   "metadata": {},
   "outputs": [],
   "source": [
    "#графики\n",
    "\n",
    "def barplot(x_data, y_data, error_data, x_label=\"\", y_label=\"\", title=\"\", cnt_l = 40, cnt_r = 15):\n",
    "    fig, ax = plt.subplots(figsize = (cnt_l, cnt_r))\n",
    "    # Draw bars, position them in the center of the tick mark on the x-axis\n",
    "    ax.bar(x_data, y_data, color = '#539caf', align = 'center', width = 0.9)\n",
    "    # Draw error bars to show standard deviation, set ls to 'none'\n",
    "    # to remove line between points\n",
    "    ax.errorbar(x_data, y_data, color = '#297083', ls = 'none', lw = 2, capthick = 2)\n",
    "    ax.set_ylabel(y_label)\n",
    "    ax.set_xlabel(x_label)\n",
    "    ax.set_title(title)\n",
    "\n",
    "    \n",
    "    plt.show()"
   ]
  },
  {
   "cell_type": "code",
   "execution_count": null,
   "metadata": {},
   "outputs": [],
   "source": [
    "#расчет евклидового расстояния\n",
    "def euclid_distance(data, x = '', y ='.1'):\n",
    "    data['eucl'] = numpy.sqrt((data['ra' + x] - data['ra' + y])**2 + (data['dec' + x] - data['dec' + y])**2) \n",
    "    return data"
   ]
  },
  {
   "cell_type": "markdown",
   "metadata": {},
   "source": [
    "Загрузка и предобработка данных"
   ]
  },
  {
   "cell_type": "code",
   "execution_count": null,
   "metadata": {},
   "outputs": [],
   "source": [
    "# Пример загрузки данных\n",
    "#without_match_x.csv - файлы пар разных объектов (несопоставимые)\n",
    "\n",
    "no_data = pd.DataFrame()\n",
    "for i in ['5','6']: \n",
    "    no_match_data = pd.read_csv(\"without_match_sdss_\" + i + \".csv\")\n",
    "    no_data = pd.concat([no_data, no_match_data], axis = 0)\n",
    "no_data = no_data.drop_duplicates()\n",
    "no_match_id, no_data = change_frame(no_data)\n",
    "no_data = no_data.drop_duplicates()"
   ]
  },
  {
   "cell_type": "code",
   "execution_count": null,
   "metadata": {},
   "outputs": [],
   "source": [
    "#аналогично подгружаем сопоставимые пары\n",
    "match_data = pd.DataFrame()\n",
    "for i in range(1, 16): #max - 16\n",
    "    data = pd.read_csv(\"with_\" + str(i) + \".csv\")\n",
    "    match_data = pd.concat([match_data, data], axis = 0).drop_duplicates()\n",
    "\n",
    "match_id, match_data_t = change_frame(match_data_t)"
   ]
  },
  {
   "cell_type": "code",
   "execution_count": null,
   "metadata": {},
   "outputs": [],
   "source": [
    "#будущий у\n",
    "match_data['matched'] = 1\n",
    "no_data['matched'] = 0"
   ]
  },
  {
   "cell_type": "code",
   "execution_count": null,
   "metadata": {},
   "outputs": [],
   "source": [
    "#создаем общий набор данных\n",
    "df = pd.concat([match_data, no_data], axis = 0)\n",
    "#отбираем нужные признаки\n",
    "df = df[['ra','dec','ra.1','dec.1','phot_g_mean_flux', 'phot_bp_mean_flux', 'phot_rp_mean_flux', 'u_mag', 'g_mag', 'z_mag', 'r_mag', 'i_mag', 'matched']]"
   ]
  },
  {
   "cell_type": "markdown",
   "metadata": {},
   "source": [
    "Создаем обучающий и тестовый наборы"
   ]
  },
  {
   "cell_type": "code",
   "execution_count": null,
   "metadata": {},
   "outputs": [],
   "source": [
    "df = df.dropna()\n",
    "y = df['matched']\n",
    "df = df.drop(columns= ['matched'])\n",
    "X_train, X_test, y_train, y_test = train_test_split(df, y, test_size=0.8, random_state=80, shuffle = True)\n",
    "X_train, X_val, y_train, y_val = train_test_split(X_train, y_train, test_size=0.8, random_state=80, shuffle = True)\n"
   ]
  },
  {
   "cell_type": "markdown",
   "metadata": {},
   "source": [
    "Работа методов машинного обучения"
   ]
  },
  {
   "cell_type": "code",
   "execution_count": null,
   "metadata": {},
   "outputs": [],
   "source": [
    "dt = DecisionTreeClassifier()\n",
    "dt = dt.fit(X_train, y_train)\n",
    "res = dt.predict(X_val)\n",
    "\n",
    "print('accuracy_score: ', accuracy_score(y_val, res))\n",
    "print('precision_score: ', precision_score(y_val, res))\n",
    "print('recall_score: ', recall_score(y_val, res))\n",
    "print('f1_score: ', f1_score(y_val, res))\n",
    "print()\n",
    "\n",
    "print(dt.n_features_)\n",
    "weight_f = dt.feature_importances_\n",
    "print(weight_f)\n",
    "\n",
    "col_lab = []\n",
    "for i in X_train.columns:\n",
    "    col_lab.append(i)\n",
    "\n",
    "barplot(col_lab, weight_f, '', '', '', 'Вес признаков DT 1', 20, 30)"
   ]
  },
  {
   "cell_type": "code",
   "execution_count": null,
   "metadata": {},
   "outputs": [],
   "source": [
    "res = dt.predict(X_test)\n",
    "\n",
    "print('accuracy_score: ', accuracy_score(y_test, res))\n",
    "print('precision_score: ', precision_score(y_test, res))\n",
    "print('recall_score: ', recall_score(y_test, res))\n",
    "print('f1_score: ', f1_score(y_test, res))\n",
    "print()"
   ]
  },
  {
   "cell_type": "markdown",
   "metadata": {},
   "source": []
  },
  {
   "cell_type": "code",
   "execution_count": null,
   "metadata": {},
   "outputs": [],
   "source": [
    "svc = SVC(verbose = True, random_state = 24)\n",
    "svc = svc.fit(X_train, y_train)\n",
    "res = svc.predict(X_val)\n",
    "\n",
    "print('accuracy_score: ', accuracy_score(y_val, res))\n",
    "print('precision_score: ', precision_score(y_val, res))\n",
    "print('recall_score: ', recall_score(y_val, res))\n",
    "print('f1_score: ', f1_score(y_val, res))\n",
    "print()\n",
    "\n",
    "res = svc.predict(X_test)\n",
    "print('accuracy_score: ', accuracy_score(y_test, res))\n",
    "print('precision_score: ', precision_score(y_test, res))\n",
    "print('recall_score: ', recall_score(y_test, res))\n",
    "print('f1_score: ', f1_score(y_test, res))\n",
    "print()"
   ]
  },
  {
   "cell_type": "markdown",
   "metadata": {},
   "source": []
  },
  {
   "cell_type": "code",
   "execution_count": null,
   "metadata": {},
   "outputs": [],
   "source": [
    "knn = KNeighborsClassifier(n_neighbors=3, algorithm='auto', leaf_size=30)\n",
    "knn = knn.fit(X_train, y_train)\n",
    "res = knn.predict(X_val)\n",
    "\n",
    "print('accuracy_score: ', accuracy_score(y_val, res))\n",
    "print('precision_score: ', precision_score(y_val, res))\n",
    "print('recall_score: ', recall_score(y_val, res))\n",
    "print('f1_score: ', f1_score(y_val, res))\n",
    "print()\n",
    "\n",
    "res = knn.predict(X_test)\n",
    "\n",
    "print('accuracy_score: ', accuracy_score(y_test, res))\n",
    "print('precision_score: ', precision_score(y_test, res))\n",
    "print('recall_score: ', recall_score(y_test, res))\n",
    "print('f1_score: ', f1_score(y_test, res))\n",
    "print()"
   ]
  },
  {
   "cell_type": "code",
   "execution_count": null,
   "metadata": {},
   "outputs": [],
   "source": []
  },
  {
   "cell_type": "code",
   "execution_count": null,
   "metadata": {},
   "outputs": [],
   "source": [
    "model = xgb.XGBClassifier()\n",
    "model = model.fit(X_train, y_train)\n",
    "res_xgb = model.predict(X_val)\n",
    "res = res_xgb\n",
    "\n",
    "print('accuracy_score: ', accuracy_score(y_val, res))\n",
    "print('precision_score: ', precision_score(y_val, res))\n",
    "print('recall_score: ', recall_score(y_val, res))\n",
    "print('f1_score: ', f1_score(y_val, res))\n",
    "print()\n",
    "\n",
    "res_xgb = model.predict(X_test)\n",
    "res = res_xgb\n",
    "print('accuracy_score: ', accuracy_score(y_test, res))\n",
    "print('precision_score: ', precision_score(y_test, res))\n",
    "print('recall_score: ', recall_score(y_test, res))\n",
    "print('f1_score: ', f1_score(y_test, res))\n",
    "print()"
   ]
  },
  {
   "cell_type": "code",
   "execution_count": null,
   "metadata": {},
   "outputs": [],
   "source": []
  },
  {
   "cell_type": "code",
   "execution_count": null,
   "metadata": {},
   "outputs": [],
   "source": [
    "m = len(X_train.columns)\n",
    "p = len(y_train.drop_duplicates())\n",
    "print(m)\n",
    "print(p)\n",
    "mlp = MLPClassifier(hidden_layer_sizes=((m+p)*100,), max_iter=200, verbose = True)\n",
    "mlp.fit(X_train, y_train)\n",
    "res = mlp.predict(X_val)\n",
    "\n",
    "print('accuracy_score: ', accuracy_score(y_val, res))\n",
    "print('precision_score: ', precision_score(y_val, res))\n",
    "print('recall_score: ', recall_score(y_val, res))\n",
    "print('f1_score: ', f1_score(y_val, res))\n",
    "print()"
   ]
  },
  {
   "cell_type": "code",
   "execution_count": null,
   "metadata": {},
   "outputs": [],
   "source": []
  },
  {
   "cell_type": "code",
   "execution_count": null,
   "metadata": {},
   "outputs": [],
   "source": [
    "x, xe, y1, ye = train_test_split(X_train, y_train, test_size=0.35, random_state=22, )\n",
    "model1 = lgb.LGBMClassifier(n_estimators=100, silent=True,  num_leaves = 25, learning_rate = 0.03, random_state = 27)\n",
    "model1 = model1.fit(x, y1,   eval_set=[(xe, ye)], early_stopping_rounds=100)\n",
    "res_lgb = model1.predict(X_val)\n",
    "res = res_lgb\n",
    "\n",
    "print('accuracy_score: ', accuracy_score(y_val, res))\n",
    "print('precision_score: ', precision_score(y_val, res))\n",
    "print('recall_score: ', recall_score(y_val, res))\n",
    "print('f1_score: ', f1_score(y_val, res))\n",
    "print()"
   ]
  },
  {
   "cell_type": "code",
   "execution_count": null,
   "metadata": {},
   "outputs": [],
   "source": []
  },
  {
   "cell_type": "code",
   "execution_count": null,
   "metadata": {},
   "outputs": [],
   "source": [
    "dd = euclid_distance(v1)\n",
    "dd['eucl']\n",
    "\n",
    "#разбиваем данные по заданному порогу\n",
    "dd['match'] =  [1 if x < 0.005 else 0 for x in dd['eucl']] #0.00001 - не все правильные отметил 0.01 - почти все"
   ]
  },
  {
   "cell_type": "code",
   "execution_count": null,
   "metadata": {},
   "outputs": [],
   "source": [
    "print('accuracy_score: ', accuracy_score(dd['matched'], dd['match']))\n",
    "print('precision_score: ', precision_score(dd['matched'], dd['match']))\n",
    "print('recall_score: ', recall_score(dd['matched'], dd['match']))\n",
    "print('f1_score: ', f1_score(dd['matched'], dd['match']))\n",
    "print()"
   ]
  },
  {
   "cell_type": "markdown",
   "metadata": {},
   "source": [
    "Так как данные sdss оказались очень хорошими, то более детальное формирование выборок и проведения дополнительных экспериментов в данном файле нет\n"
   ]
  },
  {
   "cell_type": "code",
   "execution_count": null,
   "metadata": {},
   "outputs": [],
   "source": []
  }
 ],
 "metadata": {
  "kernelspec": {
   "display_name": "Python 3",
   "language": "python",
   "name": "python3"
  },
  "language_info": {
   "codemirror_mode": {
    "name": "ipython",
    "version": 3
   },
   "file_extension": ".py",
   "mimetype": "text/x-python",
   "name": "python",
   "nbconvert_exporter": "python",
   "pygments_lexer": "ipython3",
   "version": "3.7.6"
  }
 },
 "nbformat": 4,
 "nbformat_minor": 4
}
